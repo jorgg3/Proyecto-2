{
  "nbformat": 4,
  "nbformat_minor": 0,
  "metadata": {
    "colab": {
      "provenance": [],
      "authorship_tag": "ABX9TyMIFWfU+HMWikX+43ENNyDH",
      "include_colab_link": true
    },
    "kernelspec": {
      "name": "python3",
      "display_name": "Python 3"
    },
    "language_info": {
      "name": "python"
    }
  },
  "cells": [
    {
      "cell_type": "markdown",
      "metadata": {
        "id": "view-in-github",
        "colab_type": "text"
      },
      "source": [
        "<a href=\"https://colab.research.google.com/github/jorgg3/Proyecto-2/blob/main/Ejercicio19.ipynb\" target=\"_parent\"><img src=\"https://colab.research.google.com/assets/colab-badge.svg\" alt=\"Open In Colab\"/></a>"
      ]
    },
    {
      "cell_type": "markdown",
      "source": [
        "# Práctica 2: Solución a Sistemas de Ecuaciones Lineales\n",
        "**Problemas Computacionales**\\\n",
        "Alumno: Martínez de la Cruz José Jorge\\\n",
        "Profesor: César Carreón Otañez\\\n",
        "Ayudante:  Jesús Iván Coss Calderón"
      ],
      "metadata": {
        "id": "8vNdM1F9AEcq"
      }
    },
    {
      "cell_type": "code",
      "source": [
        "#Cargamos la factorización LU:\n",
        "import numpy as np\n",
        "\n",
        "def FactLU(A):\n",
        "    \"\"\"\n",
        "    Realiza la factorización LU de una matriz cuadrada A, descomponiéndola en el producto de\n",
        "    una matriz triangular inferior L y una matriz triangular superior U, tales que A = LU.\n",
        "\n",
        "    Parámetros:\n",
        "    A (numpy.ndarray): La matriz cuadrada que se desea factorizar.\n",
        "\n",
        "    Retorna:\n",
        "    tuple: Una tupla (L, U), donde:\n",
        "        - L (numpy.ndarray): Matriz triangular inferior.\n",
        "        - U (numpy.ndarray): Matriz triangular superior.\n",
        "    \"\"\"\n",
        "    U = np.copy(A)  # Copia la matriz A para trabajar en U sin modificar A directamente\n",
        "    n = A.shape[1]  # Número de columnas (y filas, ya que es cuadrada)\n",
        "    L = np.eye(n)  # Inicializa L como la matriz identidad de tamaño n\n",
        "\n",
        "    # Realiza iteración sobre las columnas para la construcción de L y U\n",
        "    for j in range(n):\n",
        "        Lj = np.eye(n)  # Matriz identidad que actuará como transformadora en cada paso\n",
        "        for i in range(j + 1, n):\n",
        "            Lj[i, j] = -U[i, j] / U[j, j]  # Calcula el multiplicador para hacer ceros en U\n",
        "        L = L @ Lj  # Acumula el producto de matrices transformadoras en L\n",
        "        U = Lj @ U  # Aplica la transformación en U para hacer ceros debajo del pivote actual\n",
        "\n",
        "    # Ajusta L para obtener la matriz triangular inferior correcta\n",
        "    L = 2 * np.eye(n) - L\n",
        "\n",
        "    return L, U  # Retorna las matrices L y U resultantes"
      ],
      "metadata": {
        "id": "h91DyI6WB0TP"
      },
      "execution_count": 1,
      "outputs": []
    },
    {
      "cell_type": "code",
      "source": [
        "def SustDelante(L,b):\n",
        "  x=np.zeros_like(b)\n",
        "  n=L.shape[0]# cantidad de renglones de L\n",
        "  for i in range(n):\n",
        "    sum=0.0\n",
        "    for j in range(i):\n",
        "      sum+=L[i,j]*x[j]\n",
        "    x[i]=(b[i]-sum)/L[i,i]\n",
        "\n",
        "  return x"
      ],
      "metadata": {
        "id": "dnClrXVXB_B-"
      },
      "execution_count": 2,
      "outputs": []
    },
    {
      "cell_type": "code",
      "source": [
        "def SustAtras(U,y):\n",
        "  x=np.zeros_like(y)\n",
        "  n=U.shape[0]# cantidad de renglones de U\n",
        "  x[n-1]=y[n-1]/U[n-1][n-1]\n",
        "\n",
        "  for i in range(n-2,-1,-1):\n",
        "    sum=0.0\n",
        "    for j in range(i+1,n):\n",
        "      sum+=U[i,j]*x[j]\n",
        "    x[i]=(y[i]-sum)/U[i,i]\n",
        "\n",
        "  return x"
      ],
      "metadata": {
        "id": "bjAQ_T8eCE15"
      },
      "execution_count": 3,
      "outputs": []
    },
    {
      "cell_type": "code",
      "source": [
        "def SolverLU(A,b):\n",
        "  L,U=FactLU(A)\n",
        "  y=SustDelante(L,b)\n",
        "  x=SustAtras(U,y)\n",
        "\n",
        "  return x"
      ],
      "metadata": {
        "id": "NT1-hIUHCHMs"
      },
      "execution_count": 4,
      "outputs": []
    },
    {
      "cell_type": "markdown",
      "source": [
        "19) Dados $A$ y $b$ como sigue, resolver con factorización LU, factorización LU con pivoteo parcial y factorización LU con pivoteo total"
      ],
      "metadata": {
        "id": "dHpQNMYjAGkK"
      }
    },
    {
      "cell_type": "markdown",
      "source": [
        "# Factorización LU"
      ],
      "metadata": {
        "id": "T0Tc-b7uAa9q"
      }
    },
    {
      "cell_type": "markdown",
      "source": [
        "$$\n",
        "A = \\begin{bmatrix}\n",
        "  4 & -1 & 3 \\\\\n",
        "  -8 & 4 & -7 \\\\\n",
        "  12 & 1 & 8 \\\\\n",
        "\\end{bmatrix},\n",
        "b =\\begin{bmatrix}\n",
        "  -8\\\\\n",
        "  19\\\\\n",
        "  -19\\\\\n",
        "\\end{bmatrix}\n",
        "$$"
      ],
      "metadata": {
        "id": "b3xdERqwCieL"
      }
    },
    {
      "cell_type": "code",
      "source": [
        "A = np.array([[4, -1, 3], [-8, 4, -7], [12, 1, 8]])\n",
        "b = np.array([-8, 19, -19])\n",
        "print(A)\n",
        "print(b)"
      ],
      "metadata": {
        "colab": {
          "base_uri": "https://localhost:8080/"
        },
        "id": "B1Sm_lTWDB6q",
        "outputId": "42027024-3b31-4cbe-f898-9acfd02e1aa4"
      },
      "execution_count": 7,
      "outputs": [
        {
          "output_type": "stream",
          "name": "stdout",
          "text": [
            "[[ 4 -1  3]\n",
            " [-8  4 -7]\n",
            " [12  1  8]]\n",
            "[ -8  19 -19]\n"
          ]
        }
      ]
    },
    {
      "cell_type": "code",
      "source": [
        "SolverLU(A, b)"
      ],
      "metadata": {
        "colab": {
          "base_uri": "https://localhost:8080/"
        },
        "id": "cDpnMCoiDSVW",
        "outputId": "ee295766-60aa-4b48-d313-91393ef80196"
      },
      "execution_count": 9,
      "outputs": [
        {
          "output_type": "execute_result",
          "data": {
            "text/plain": [
              "array([-1,  1, -1])"
            ]
          },
          "metadata": {},
          "execution_count": 9
        }
      ]
    },
    {
      "cell_type": "markdown",
      "source": [
        "La solución es el vector $(-1, 1, -1)$"
      ],
      "metadata": {
        "id": "Gyo_M4wvDgni"
      }
    },
    {
      "cell_type": "markdown",
      "source": [
        "$$\n",
        "A = \\begin{bmatrix}\n",
        "  1 & 4 & -2 & 1 \\\\\n",
        "  -2 & -4 & -3 & 1 \\\\\n",
        "  1 & 16 & -17 & 9 \\\\\n",
        "  2 & 4 & -9 & -3\n",
        "\\end{bmatrix},\n",
        "b =\\begin{bmatrix}\n",
        "  3.5\\\\\n",
        "  -2.5\\\\\n",
        "  15\\\\\n",
        "  10.5\n",
        "\\end{bmatrix}\n",
        "$$"
      ],
      "metadata": {
        "id": "WfUTJUTNDe93"
      }
    },
    {
      "cell_type": "code",
      "source": [
        "A = np.array([[1, 4, -2, 1], [-2, -4, -3, 1], [1, 16, -17, 9], [2, 4, -9, -3]])\n",
        "b = np.array([3.5, -2.5, 15, 10.5])\n",
        "print(A)\n",
        "print(b)"
      ],
      "metadata": {
        "colab": {
          "base_uri": "https://localhost:8080/"
        },
        "id": "6lfdTG5gFe_g",
        "outputId": "f71ef589-b1e8-498b-c320-a68c8831446d"
      },
      "execution_count": 10,
      "outputs": [
        {
          "output_type": "stream",
          "name": "stdout",
          "text": [
            "[[  1   4  -2   1]\n",
            " [ -2  -4  -3   1]\n",
            " [  1  16 -17   9]\n",
            " [  2   4  -9  -3]]\n",
            "[ 3.5 -2.5 15.  10.5]\n"
          ]
        }
      ]
    },
    {
      "cell_type": "code",
      "source": [
        "SolverLU(A, b)"
      ],
      "metadata": {
        "colab": {
          "base_uri": "https://localhost:8080/"
        },
        "id": "43bhHyFxF0Nj",
        "outputId": "662c4223-9e32-4154-a38e-73d2cb54d2fc"
      },
      "execution_count": 11,
      "outputs": [
        {
          "output_type": "execute_result",
          "data": {
            "text/plain": [
              "array([-0.5,  1. , -0.5, -1. ])"
            ]
          },
          "metadata": {},
          "execution_count": 11
        }
      ]
    },
    {
      "cell_type": "markdown",
      "source": [
        "La solución es el vector $(-0.5, 1, -0.5, -1)$"
      ],
      "metadata": {
        "id": "CjED_YKJF4R3"
      }
    },
    {
      "cell_type": "markdown",
      "source": [
        "$$\n",
        "A = \\begin{bmatrix}\n",
        "  4 & 5 & -1 & 2 & 3 \\\\\n",
        "  12 & 13 & 0 & 10 & 3 \\\\\n",
        "  -8 & -8 & 5 & -11 & 4 \\\\\n",
        "  16 & 18 & -7 & 20 & 4 \\\\\n",
        "  -4 & -9 & 31 & -31 & -1\n",
        "\\end{bmatrix},\n",
        "b =\\begin{bmatrix}\n",
        "  34\\\\\n",
        "  93\\\\\n",
        "  -33\\\\\n",
        "  131\\\\\n",
        "  -58\n",
        "\\end{bmatrix}\n",
        "$$"
      ],
      "metadata": {
        "id": "NjNfVR--GOoO"
      }
    },
    {
      "cell_type": "code",
      "source": [
        "A = np.array([[4, 5, -1, 2, 3], [12, 13, 0, 10, 3], [-8, -8, 5, -11, 4], [16, 18, -7, 20, 4], [-4, -9, 31, -31, -1]])\n",
        "b = np.array([34, 93, -33, 131, -58])\n",
        "print(A)\n",
        "print(b)"
      ],
      "metadata": {
        "colab": {
          "base_uri": "https://localhost:8080/"
        },
        "id": "qL1gzQg9G8U1",
        "outputId": "9d35b061-e39b-4f96-f6ca-e3328ba062f5"
      },
      "execution_count": 12,
      "outputs": [
        {
          "output_type": "stream",
          "name": "stdout",
          "text": [
            "[[  4   5  -1   2   3]\n",
            " [ 12  13   0  10   3]\n",
            " [ -8  -8   5 -11   4]\n",
            " [ 16  18  -7  20   4]\n",
            " [ -4  -9  31 -31  -1]]\n",
            "[ 34  93 -33 131 -58]\n"
          ]
        }
      ]
    },
    {
      "cell_type": "code",
      "source": [
        "SolverLU(A, b)"
      ],
      "metadata": {
        "colab": {
          "base_uri": "https://localhost:8080/"
        },
        "id": "-6gPxdYuHhy2",
        "outputId": "20161f6e-5a5c-4353-e6bc-91881cee3e77"
      },
      "execution_count": 13,
      "outputs": [
        {
          "output_type": "execute_result",
          "data": {
            "text/plain": [
              "array([1, 2, 3, 4, 5])"
            ]
          },
          "metadata": {},
          "execution_count": 13
        }
      ]
    },
    {
      "cell_type": "markdown",
      "source": [
        "Curiosamente, la solución al sistema es el vector $(1, 2, 3, 4, 5)$"
      ],
      "metadata": {
        "id": "su4QrsRAHmaA"
      }
    }
  ]
}