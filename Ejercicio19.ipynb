{
  "nbformat": 4,
  "nbformat_minor": 0,
  "metadata": {
    "colab": {
      "provenance": [],
      "authorship_tag": "ABX9TyPN1njzI4K6RZUTxcxkPMWo",
      "include_colab_link": true
    },
    "kernelspec": {
      "name": "python3",
      "display_name": "Python 3"
    },
    "language_info": {
      "name": "python"
    }
  },
  "cells": [
    {
      "cell_type": "markdown",
      "metadata": {
        "id": "view-in-github",
        "colab_type": "text"
      },
      "source": [
        "<a href=\"https://colab.research.google.com/github/jorgg3/Proyecto-2/blob/main/Ejercicio19.ipynb\" target=\"_parent\"><img src=\"https://colab.research.google.com/assets/colab-badge.svg\" alt=\"Open In Colab\"/></a>"
      ]
    },
    {
      "cell_type": "markdown",
      "source": [
        "# Práctica 2: Solución a Sistemas de Ecuaciones Lineales\n",
        "**Problemas Computacionales**\\\n",
        "Alumno: Martínez de la Cruz José Jorge\\\n",
        "Profesor: César Carreón Otañez\\\n",
        "Ayudante:  Jesús Iván Coss Calderón"
      ],
      "metadata": {
        "id": "8vNdM1F9AEcq"
      }
    },
    {
      "cell_type": "markdown",
      "source": [
        "*** NOTAS: Todos los códigos fueron comentados por ChatGPT, incluso los códigos vistos en clase (ayudantía), todas las modificaciones a dichos códigos fueron creación propia.***"
      ],
      "metadata": {
        "id": "4AV2gGQ2E7XK"
      }
    },
    {
      "cell_type": "code",
      "source": [
        "#Cargamos la factorización LU:\n",
        "import numpy as np\n",
        "\n",
        "def FactLU(A):\n",
        "    \"\"\"\n",
        "    Realiza la factorización LU de una matriz cuadrada A, descomponiéndola en el producto de\n",
        "    una matriz triangular inferior L y una matriz triangular superior U, tales que A = LU.\n",
        "\n",
        "    Parámetros:\n",
        "    A (numpy.ndarray): La matriz cuadrada que se desea factorizar.\n",
        "\n",
        "    Retorna:\n",
        "    tuple: Una tupla (L, U), donde:\n",
        "        - L (numpy.ndarray): Matriz triangular inferior.\n",
        "        - U (numpy.ndarray): Matriz triangular superior.\n",
        "    \"\"\"\n",
        "    U = np.copy(A)  # Copia la matriz A para trabajar en U sin modificar A directamente\n",
        "    n = A.shape[1]  # Número de columnas (y filas, ya que es cuadrada)\n",
        "    L = np.eye(n)  # Inicializa L como la matriz identidad de tamaño n\n",
        "\n",
        "    # Realiza iteración sobre las columnas para la construcción de L y U\n",
        "    for j in range(n):\n",
        "        Lj = np.eye(n)  # Matriz identidad que actuará como transformadora en cada paso\n",
        "        for i in range(j + 1, n):\n",
        "            Lj[i, j] = -U[i, j] / U[j, j]  # Calcula el multiplicador para hacer ceros en U\n",
        "        L = L @ Lj  # Acumula el producto de matrices transformadoras en L\n",
        "        U = Lj @ U  # Aplica la transformación en U para hacer ceros debajo del pivote actual\n",
        "\n",
        "    # Ajusta L para obtener la matriz triangular inferior correcta\n",
        "    L = 2 * np.eye(n) - L\n",
        "\n",
        "    return L, U  # Retorna las matrices L y U resultantes"
      ],
      "metadata": {
        "id": "h91DyI6WB0TP"
      },
      "execution_count": 68,
      "outputs": []
    },
    {
      "cell_type": "code",
      "source": [
        "def SustDelante(L,b):\n",
        "  x=np.zeros_like(b)\n",
        "  n=L.shape[0]# cantidad de renglones de L\n",
        "  for i in range(n):\n",
        "    sum=0.0\n",
        "    for j in range(i):\n",
        "      sum+=L[i,j]*x[j]\n",
        "    x[i]=(b[i]-sum)/L[i,i]\n",
        "\n",
        "  return x"
      ],
      "metadata": {
        "id": "dnClrXVXB_B-"
      },
      "execution_count": 5,
      "outputs": []
    },
    {
      "cell_type": "code",
      "source": [
        "def SustAtras(U,y):\n",
        "  x=np.zeros_like(y)\n",
        "  n=U.shape[0]# cantidad de renglones de U\n",
        "  x[n-1]=y[n-1]/U[n-1][n-1]\n",
        "\n",
        "  for i in range(n-2,-1,-1):\n",
        "    sum=0.0\n",
        "    for j in range(i+1,n):\n",
        "      sum+=U[i,j]*x[j]\n",
        "    x[i]=(y[i]-sum)/U[i,i]\n",
        "\n",
        "  return x"
      ],
      "metadata": {
        "id": "bjAQ_T8eCE15"
      },
      "execution_count": 6,
      "outputs": []
    },
    {
      "cell_type": "code",
      "source": [
        "def SolverLU(A,b):\n",
        "  L,U=FactLU(A)\n",
        "  y=SustDelante(L,b)\n",
        "  x=SustAtras(U,y)\n",
        "\n",
        "  return x"
      ],
      "metadata": {
        "id": "NT1-hIUHCHMs"
      },
      "execution_count": 7,
      "outputs": []
    },
    {
      "cell_type": "markdown",
      "source": [
        "19) Dados $A$ y $b$ como sigue, resolver con factorización LU, factorización LU con pivoteo parcial y factorización LU con pivoteo total"
      ],
      "metadata": {
        "id": "dHpQNMYjAGkK"
      }
    },
    {
      "cell_type": "markdown",
      "source": [
        "# Factorización LU"
      ],
      "metadata": {
        "id": "T0Tc-b7uAa9q"
      }
    },
    {
      "cell_type": "markdown",
      "source": [
        "$$\n",
        "A = \\begin{bmatrix}\n",
        "  4 & -1 & 3 \\\\\n",
        "  -8 & 4 & -7 \\\\\n",
        "  12 & 1 & 8 \\\\\n",
        "\\end{bmatrix},\n",
        "b =\\begin{bmatrix}\n",
        "  -8\\\\\n",
        "  19\\\\\n",
        "  -19\\\\\n",
        "\\end{bmatrix}\n",
        "$$"
      ],
      "metadata": {
        "id": "b3xdERqwCieL"
      }
    },
    {
      "cell_type": "code",
      "source": [
        "A = np.array([[4, -1, 3], [-8, 4, -7], [12, 1, 8]])\n",
        "b = np.array([-8, 19, -19])\n",
        "print(A)\n",
        "print(b)"
      ],
      "metadata": {
        "colab": {
          "base_uri": "https://localhost:8080/"
        },
        "id": "B1Sm_lTWDB6q",
        "outputId": "e8db9026-122d-471c-d1dd-cdbd8ff5adc9"
      },
      "execution_count": 8,
      "outputs": [
        {
          "output_type": "stream",
          "name": "stdout",
          "text": [
            "[[ 4 -1  3]\n",
            " [-8  4 -7]\n",
            " [12  1  8]]\n",
            "[ -8  19 -19]\n"
          ]
        }
      ]
    },
    {
      "cell_type": "code",
      "source": [
        "SolverLU(A, b)"
      ],
      "metadata": {
        "colab": {
          "base_uri": "https://localhost:8080/"
        },
        "id": "cDpnMCoiDSVW",
        "outputId": "0dc9d0e1-4467-413e-ebcb-89a3a992232d"
      },
      "execution_count": 9,
      "outputs": [
        {
          "output_type": "execute_result",
          "data": {
            "text/plain": [
              "array([-1,  1, -1])"
            ]
          },
          "metadata": {},
          "execution_count": 9
        }
      ]
    },
    {
      "cell_type": "markdown",
      "source": [
        "La solución es el vector $(-1, 1, -1)$"
      ],
      "metadata": {
        "id": "Gyo_M4wvDgni"
      }
    },
    {
      "cell_type": "markdown",
      "source": [
        "$$\n",
        "A = \\begin{bmatrix}\n",
        "  1 & 4 & -2 & 1 \\\\\n",
        "  -2 & -4 & -3 & 1 \\\\\n",
        "  1 & 16 & -17 & 9 \\\\\n",
        "  2 & 4 & -9 & -3\n",
        "\\end{bmatrix},\n",
        "b =\\begin{bmatrix}\n",
        "  3.5\\\\\n",
        "  -2.5\\\\\n",
        "  15\\\\\n",
        "  10.5\n",
        "\\end{bmatrix}\n",
        "$$"
      ],
      "metadata": {
        "id": "WfUTJUTNDe93"
      }
    },
    {
      "cell_type": "code",
      "source": [
        "A = np.array([[1, 4, -2, 1], [-2, -4, -3, 1], [1, 16, -17, 9], [2, 4, -9, -3]])\n",
        "b = np.array([3.5, -2.5, 15, 10.5])\n",
        "print(A)\n",
        "print(b)"
      ],
      "metadata": {
        "colab": {
          "base_uri": "https://localhost:8080/"
        },
        "id": "6lfdTG5gFe_g",
        "outputId": "4b7a7bad-472c-4ce9-ab1c-67766be1681c"
      },
      "execution_count": 10,
      "outputs": [
        {
          "output_type": "stream",
          "name": "stdout",
          "text": [
            "[[  1   4  -2   1]\n",
            " [ -2  -4  -3   1]\n",
            " [  1  16 -17   9]\n",
            " [  2   4  -9  -3]]\n",
            "[ 3.5 -2.5 15.  10.5]\n"
          ]
        }
      ]
    },
    {
      "cell_type": "code",
      "source": [
        "SolverLU(A, b)"
      ],
      "metadata": {
        "colab": {
          "base_uri": "https://localhost:8080/"
        },
        "id": "43bhHyFxF0Nj",
        "outputId": "f630b09c-d0af-4334-eb0d-497ad9e08d13"
      },
      "execution_count": 11,
      "outputs": [
        {
          "output_type": "execute_result",
          "data": {
            "text/plain": [
              "array([-0.5,  1. , -0.5, -1. ])"
            ]
          },
          "metadata": {},
          "execution_count": 11
        }
      ]
    },
    {
      "cell_type": "markdown",
      "source": [
        "La solución es el vector $(-0.5, 1, -0.5, -1)$"
      ],
      "metadata": {
        "id": "CjED_YKJF4R3"
      }
    },
    {
      "cell_type": "markdown",
      "source": [
        "$$\n",
        "A = \\begin{bmatrix}\n",
        "  4 & 5 & -1 & 2 & 3 \\\\\n",
        "  12 & 13 & 0 & 10 & 3 \\\\\n",
        "  -8 & -8 & 5 & -11 & 4 \\\\\n",
        "  16 & 18 & -7 & 20 & 4 \\\\\n",
        "  -4 & -9 & 31 & -31 & -1\n",
        "\\end{bmatrix},\n",
        "b =\\begin{bmatrix}\n",
        "  34\\\\\n",
        "  93\\\\\n",
        "  -33\\\\\n",
        "  131\\\\\n",
        "  -58\n",
        "\\end{bmatrix}\n",
        "$$"
      ],
      "metadata": {
        "id": "NjNfVR--GOoO"
      }
    },
    {
      "cell_type": "code",
      "source": [
        "A = np.array([[4, 5, -1, 2, 3], [12, 13, 0, 10, 3], [-8, -8, 5, -11, 4], [16, 18, -7, 20, 4], [-4, -9, 31, -31, -1]])\n",
        "b = np.array([34, 93, -33, 131, -58])\n",
        "print(A)\n",
        "print(b)"
      ],
      "metadata": {
        "colab": {
          "base_uri": "https://localhost:8080/"
        },
        "id": "qL1gzQg9G8U1",
        "outputId": "36061b8a-cbe1-43be-8fd8-3c0767156ff8"
      },
      "execution_count": 12,
      "outputs": [
        {
          "output_type": "stream",
          "name": "stdout",
          "text": [
            "[[  4   5  -1   2   3]\n",
            " [ 12  13   0  10   3]\n",
            " [ -8  -8   5 -11   4]\n",
            " [ 16  18  -7  20   4]\n",
            " [ -4  -9  31 -31  -1]]\n",
            "[ 34  93 -33 131 -58]\n"
          ]
        }
      ]
    },
    {
      "cell_type": "code",
      "source": [
        "SolverLU(A, b)"
      ],
      "metadata": {
        "colab": {
          "base_uri": "https://localhost:8080/"
        },
        "id": "-6gPxdYuHhy2",
        "outputId": "b0dcffd2-da42-4d28-8c2e-b4a9d718708c"
      },
      "execution_count": 13,
      "outputs": [
        {
          "output_type": "execute_result",
          "data": {
            "text/plain": [
              "array([1, 2, 3, 4, 5])"
            ]
          },
          "metadata": {},
          "execution_count": 13
        }
      ]
    },
    {
      "cell_type": "markdown",
      "source": [
        "Curiosamente, la solución al sistema es el vector $(1, 2, 3, 4, 5)$"
      ],
      "metadata": {
        "id": "su4QrsRAHmaA"
      }
    },
    {
      "cell_type": "markdown",
      "source": [
        "# Pivoteo Parcial"
      ],
      "metadata": {
        "id": "sBKNmY_q8YHN"
      }
    },
    {
      "cell_type": "code",
      "source": [
        "def Permutaciones(A, y):\n",
        "    \"\"\"\n",
        "    Realiza el proceso de eliminación gaussiana con pivoteo parcial para una matriz A y vector y,\n",
        "    generando una serie de matrices de permutación.\n",
        "\n",
        "    El proceso intercambia filas de la matriz A para maximizar la estabilidad numérica y resolver\n",
        "    sistemas lineales mediante factorización.\n",
        "\n",
        "    Parámetros:\n",
        "    A (numpy.ndarray): La matriz de coeficientes de entrada, cuadrada.\n",
        "    y (numpy.ndarray): El vector columna de términos independientes.\n",
        "\n",
        "    Retorna:\n",
        "    tuple: Una tupla con los siguientes elementos:\n",
        "        - Ps (list of numpy.ndarray): Lista de matrices de permutación que representan los intercambios de filas.\n",
        "        - U (numpy.ndarray): La matriz A transformada después de aplicar las permutaciones.\n",
        "        - b (numpy.ndarray): El vector y modificado acorde a las permutaciones aplicadas.\n",
        "    \"\"\"\n",
        "    U = np.copy(A)  # Copia de la matriz A para evitar modificarla directamente\n",
        "    b = np.copy(y)  # Copia del vector y para evitar modificarlo directamente\n",
        "    Ps = []  # Lista para almacenar las matrices de permutación generadas en cada paso\n",
        "\n",
        "    # Itera sobre cada columna de U para aplicar permutaciones\n",
        "    for i in range(U.shape[0]):\n",
        "        P = np.eye(U.shape[0])  # Crea una matriz identidad que actuará como permutación\n",
        "        # Encuentra el índice de la fila con el valor máximo absoluto en la columna actual (a partir de la fila i)\n",
        "        k = np.argmax(np.abs(U[i:, i])) + i\n",
        "        U[[i, k]] = U[[k, i]]  # Intercambia las filas i y k en U\n",
        "        P[[i, k]] = P[[k, i]]  # Registra el intercambio en la matriz de permutación P\n",
        "        b[[i, k]] = b[[k, i]]  # Aplica el intercambio de filas en el vector b\n",
        "\n",
        "        Ps.append(P)  # Guarda la matriz de permutación para el paso actual\n",
        "\n",
        "    return Ps, U, b  # Retorna la lista de matrices de permutación, U modificada y b modificado\n"
      ],
      "metadata": {
        "id": "qW_gOr058a13"
      },
      "execution_count": 57,
      "outputs": []
    },
    {
      "cell_type": "code",
      "source": [
        "def PivoteoParcial(A, b):\n",
        "    \"\"\"\n",
        "    Realiza el pivoteo parcial en la matriz A con el vector b, utilizando el método de permutaciones,\n",
        "    y luego resuelve el sistema de ecuaciones resultante mediante la factorización LU.\n",
        "\n",
        "    Parámetros:\n",
        "    A (numpy.ndarray): La matriz de coeficientes del sistema, cuadrada.\n",
        "    b (numpy.ndarray): El vector de términos independientes.\n",
        "\n",
        "    Retorna:\n",
        "    numpy.ndarray: El vector solución x que satisface Ax = b.\n",
        "    \"\"\"\n",
        "    Ps, A_g, b_g = Permutaciones(A, b)  # Aplica permutaciones para hacer pivoteo en A y b\n",
        "    x = SolverLU(A_g, b_g)  # Resuelve el sistema usando factorización LU\n",
        "    return x\n"
      ],
      "metadata": {
        "id": "_y0z3IVL8jbk"
      },
      "execution_count": 58,
      "outputs": []
    },
    {
      "cell_type": "code",
      "source": [
        "A = np.array([[4, -1, 3], [-8, 4, -7], [12, 1, 8]])\n",
        "b = np.array([-8, 19, -19])\n",
        "print(A)\n",
        "print(b)"
      ],
      "metadata": {
        "colab": {
          "base_uri": "https://localhost:8080/"
        },
        "id": "tOaDQT-z9IYN",
        "outputId": "80936943-e01f-4d2c-cd46-728a93168c94"
      },
      "execution_count": 59,
      "outputs": [
        {
          "output_type": "stream",
          "name": "stdout",
          "text": [
            "[[ 4 -1  3]\n",
            " [-8  4 -7]\n",
            " [12  1  8]]\n",
            "[ -8  19 -19]\n"
          ]
        }
      ]
    },
    {
      "cell_type": "code",
      "source": [
        "PivoteoParcial(A, b)"
      ],
      "metadata": {
        "colab": {
          "base_uri": "https://localhost:8080/"
        },
        "id": "mfu93wm49Ufv",
        "outputId": "5b76128f-c8c0-4a03-88c4-7f95632bcd21"
      },
      "execution_count": 60,
      "outputs": [
        {
          "output_type": "execute_result",
          "data": {
            "text/plain": [
              "array([-1,  1,  0])"
            ]
          },
          "metadata": {},
          "execution_count": 60
        }
      ]
    },
    {
      "cell_type": "code",
      "source": [
        "A = np.array([[1, 4, -2, 1], [-2, -4, -3, 1], [1, 16, -17, 9], [2, 4, -9, -3]])\n",
        "b = np.array([3.5, -2.5, 15, 10.5])\n",
        "print(A)\n",
        "print(b)"
      ],
      "metadata": {
        "colab": {
          "base_uri": "https://localhost:8080/"
        },
        "id": "CFAyoOES_uGn",
        "outputId": "31bc8cbb-711c-433b-b4b7-1568391da41b"
      },
      "execution_count": 61,
      "outputs": [
        {
          "output_type": "stream",
          "name": "stdout",
          "text": [
            "[[  1   4  -2   1]\n",
            " [ -2  -4  -3   1]\n",
            " [  1  16 -17   9]\n",
            " [  2   4  -9  -3]]\n",
            "[ 3.5 -2.5 15.  10.5]\n"
          ]
        }
      ]
    },
    {
      "cell_type": "code",
      "source": [
        "PivoteoParcial(A, b)"
      ],
      "metadata": {
        "colab": {
          "base_uri": "https://localhost:8080/"
        },
        "id": "mxLjpH9X_yrB",
        "outputId": "65b7ccab-1b23-4b6a-a77c-0ec9bdc5a370"
      },
      "execution_count": 62,
      "outputs": [
        {
          "output_type": "execute_result",
          "data": {
            "text/plain": [
              "array([-0.5,  1. , -0.5, -1. ])"
            ]
          },
          "metadata": {},
          "execution_count": 62
        }
      ]
    },
    {
      "cell_type": "code",
      "source": [
        "A = np.array([[4, 5, -1, 2, 3], [12, 13, 0, 10, 3], [-8, -8, 5, -11, 4], [16, 18, -7, 20, 4], [-4, -9, 31, -31, -1]])\n",
        "b = np.array([34, 93, -33, 131, -58])\n",
        "print(A)\n",
        "print(b)"
      ],
      "metadata": {
        "colab": {
          "base_uri": "https://localhost:8080/"
        },
        "id": "FUYIcYwt_4VK",
        "outputId": "427a56a0-50e5-40b3-ba75-66114110c5e9"
      },
      "execution_count": 63,
      "outputs": [
        {
          "output_type": "stream",
          "name": "stdout",
          "text": [
            "[[  4   5  -1   2   3]\n",
            " [ 12  13   0  10   3]\n",
            " [ -8  -8   5 -11   4]\n",
            " [ 16  18  -7  20   4]\n",
            " [ -4  -9  31 -31  -1]]\n",
            "[ 34  93 -33 131 -58]\n"
          ]
        }
      ]
    },
    {
      "cell_type": "code",
      "source": [
        "PivoteoParcial(A, b)"
      ],
      "metadata": {
        "colab": {
          "base_uri": "https://localhost:8080/"
        },
        "id": "VEkcwiS8_6pL",
        "outputId": "fab46657-33a3-46bc-e50a-b56c41f98513"
      },
      "execution_count": 64,
      "outputs": [
        {
          "output_type": "execute_result",
          "data": {
            "text/plain": [
              "array([0, 2, 5, 6, 4])"
            ]
          },
          "metadata": {},
          "execution_count": 64
        }
      ]
    },
    {
      "cell_type": "markdown",
      "source": [
        "Es interesante analizar que, una vez que se realizan las permutaciones, en ocasiones, el resultado cambia."
      ],
      "metadata": {
        "id": "KxJCPY1RABkP"
      }
    },
    {
      "cell_type": "markdown",
      "source": [
        "# Pivoteo Total"
      ],
      "metadata": {
        "id": "cVJ5jNbXALu5"
      }
    },
    {
      "cell_type": "markdown",
      "source": [
        "Modifiquemos la función de permutaciones para que realice el pivoteo total:"
      ],
      "metadata": {
        "id": "7jbLW6LAA2yO"
      }
    },
    {
      "cell_type": "code",
      "source": [
        "def PermutacionTotal(A, y):\n",
        "    \"\"\"\n",
        "    Realiza el pivoteo total en la matriz A con el vector y.\n",
        "    Esto implica la búsqueda del mayor elemento en valor absoluto\n",
        "    en la submatriz reducida, intercambiando tanto filas como columnas.\n",
        "    \"\"\"\n",
        "    U = np.copy(A)\n",
        "    b = np.copy(y)\n",
        "    n = U.shape[0]\n",
        "    Ps = []\n",
        "    perm = np.arange(n) #Orden\n",
        "\n",
        "    for i in range(n):\n",
        "        # Encuentra la posición del mayor elemento en valor absoluto en la submatriz U[i:, i:]\n",
        "        submatrix = np.abs(U[i:, i:])\n",
        "        max_pos = np.unravel_index(np.argmax(submatrix), submatrix.shape)\n",
        "        max_row, max_col = max_pos[0] + i, max_pos[1] + i\n",
        "\n",
        "        # Intercambia filas en U y b\n",
        "        if max_row != i:\n",
        "            U[[i, max_row]] = U[[max_row, i]]\n",
        "            b[[i, max_row]] = b[[max_row, i]]\n",
        "\n",
        "        # Intercambia columnas en U y actualiza el orden en perm\n",
        "        if max_col != i:\n",
        "            U[:, [i, max_col]] = U[:, [max_col, i]]\n",
        "            perm[[i, max_col]] = perm[[max_col, i]]\n",
        "\n",
        "        # Registra la permutación aplicada\n",
        "        P = np.eye(n)\n",
        "        if max_row != i:\n",
        "            P[[i, max_row]] = P[[max_row, i]]\n",
        "        if max_col != i:\n",
        "            P[:, [i, max_col]] = P[:, [max_col, i]]\n",
        "        Ps.append(P)\n",
        "\n",
        "    return Ps, U, b, perm\n"
      ],
      "metadata": {
        "id": "2xVbNJrKA7D7"
      },
      "execution_count": 76,
      "outputs": []
    },
    {
      "cell_type": "code",
      "source": [
        "def LUConPivoteoTotal(A, y):\n",
        "    #Realizamos el pivoteo total sobre la matriz A y el vector y\n",
        "    Ps, U_permutada, b_permutada, perm = PermutacionTotal(A, y)\n",
        "\n",
        "    # Realizamos la factorización LU sobre la matriz permutada\n",
        "    L, U = FactLU(U_permutada)\n",
        "\n",
        "    #Se ajusta el vector de términos independientes según las permutaciones aplicadas\n",
        "    b_final = b_permutada\n",
        "\n",
        "    #Regresa L, U, el vector permutado, y las permutaciones aplicadas\n",
        "    return L, U, b_final, perm\n"
      ],
      "metadata": {
        "id": "IPYxZbjVDGpP"
      },
      "execution_count": 75,
      "outputs": []
    },
    {
      "cell_type": "code",
      "source": [
        "def SolveLUConPivoteoTotal(A, b):\n",
        "    L, U, b_permutado, perm = LUConPivoteoTotal(A, b)\n",
        "\n",
        "    z = SustDelante(L, b_permutado)\n",
        "\n",
        "    x_p = SustAtras(U, z)\n",
        "\n",
        "    #Se revierte el orden de las permutaciones en x_p (el que permutamos)\n",
        "    x = np.empty_like(x_p)\n",
        "    for i, k in enumerate(perm):\n",
        "        x[k] = x_p[i]\n",
        "\n",
        "    return x\n"
      ],
      "metadata": {
        "id": "PThVgGioDuRQ"
      },
      "execution_count": 73,
      "outputs": []
    },
    {
      "cell_type": "code",
      "source": [
        "A = np.array([[4, -1, 3], [-8, 4, -7], [12, 1, 8]])\n",
        "b = np.array([-8, 19, -19])\n",
        "print(A)\n",
        "print(b)"
      ],
      "metadata": {
        "colab": {
          "base_uri": "https://localhost:8080/"
        },
        "id": "2B-FSUb7EPhG",
        "outputId": "672bac28-e025-4231-b189-e17277462a4b"
      },
      "execution_count": 70,
      "outputs": [
        {
          "output_type": "stream",
          "name": "stdout",
          "text": [
            "[[ 4 -1  3]\n",
            " [-8  4 -7]\n",
            " [12  1  8]]\n",
            "[ -8  19 -19]\n"
          ]
        }
      ]
    },
    {
      "cell_type": "code",
      "source": [
        "SolveLUConPivoteoTotal(A, b)"
      ],
      "metadata": {
        "colab": {
          "base_uri": "https://localhost:8080/"
        },
        "id": "0oS0M98nERI5",
        "outputId": "8052e200-551a-4897-c297-e2b0417073ce"
      },
      "execution_count": 77,
      "outputs": [
        {
          "output_type": "execute_result",
          "data": {
            "text/plain": [
              "array([ 0,  0, -3])"
            ]
          },
          "metadata": {},
          "execution_count": 77
        }
      ]
    },
    {
      "cell_type": "code",
      "source": [
        "A = np.array([[1, 4, -2, 1], [-2, -4, -3, 1], [1, 16, -17, 9], [2, 4, -9, -3]])\n",
        "b = np.array([3.5, -2.5, 15, 10.5])\n",
        "print(A)\n",
        "print(b)"
      ],
      "metadata": {
        "colab": {
          "base_uri": "https://localhost:8080/"
        },
        "id": "dprNxx8MEeTR",
        "outputId": "3f6d6faf-e085-4a51-8461-9569aaf6d68c"
      },
      "execution_count": 78,
      "outputs": [
        {
          "output_type": "stream",
          "name": "stdout",
          "text": [
            "[[  1   4  -2   1]\n",
            " [ -2  -4  -3   1]\n",
            " [  1  16 -17   9]\n",
            " [  2   4  -9  -3]]\n",
            "[ 3.5 -2.5 15.  10.5]\n"
          ]
        }
      ]
    },
    {
      "cell_type": "code",
      "source": [
        "SolveLUConPivoteoTotal(A, b)"
      ],
      "metadata": {
        "colab": {
          "base_uri": "https://localhost:8080/"
        },
        "id": "gNiL8B6AEffe",
        "outputId": "0b662488-f010-4fbc-afab-3e891758f922"
      },
      "execution_count": 81,
      "outputs": [
        {
          "output_type": "execute_result",
          "data": {
            "text/plain": [
              "array([-0.5,  1. , -0.5, -1. ])"
            ]
          },
          "metadata": {},
          "execution_count": 81
        }
      ]
    },
    {
      "cell_type": "code",
      "source": [
        "A = np.array([[4, 5, -1, 2, 3], [12, 13, 0, 10, 3], [-8, -8, 5, -11, 4], [16, 18, -7, 20, 4], [-4, -9, 31, -31, -1]])\n",
        "b = np.array([34, 93, -33, 131, -58])\n",
        "print(A)\n",
        "print(b)"
      ],
      "metadata": {
        "colab": {
          "base_uri": "https://localhost:8080/"
        },
        "id": "gtWwsHZqEjb2",
        "outputId": "20fd5e40-ce6f-453e-8475-3ff17f857273"
      },
      "execution_count": 82,
      "outputs": [
        {
          "output_type": "stream",
          "name": "stdout",
          "text": [
            "[[  4   5  -1   2   3]\n",
            " [ 12  13   0  10   3]\n",
            " [ -8  -8   5 -11   4]\n",
            " [ 16  18  -7  20   4]\n",
            " [ -4  -9  31 -31  -1]]\n",
            "[ 34  93 -33 131 -58]\n"
          ]
        }
      ]
    },
    {
      "cell_type": "code",
      "source": [
        "SolveLUConPivoteoTotal(A, b)"
      ],
      "metadata": {
        "colab": {
          "base_uri": "https://localhost:8080/"
        },
        "id": "Qz8AV3UpEqiQ",
        "outputId": "7c69a5df-4206-4b06-f666-da5c3c1fab46"
      },
      "execution_count": 83,
      "outputs": [
        {
          "output_type": "execute_result",
          "data": {
            "text/plain": [
              "array([-3,  5,  4,  5,  4])"
            ]
          },
          "metadata": {},
          "execution_count": 83
        }
      ]
    }
  ]
}