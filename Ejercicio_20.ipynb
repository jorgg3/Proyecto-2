{
  "nbformat": 4,
  "nbformat_minor": 0,
  "metadata": {
    "colab": {
      "provenance": [],
      "authorship_tag": "ABX9TyNPvKMq+R8F1QD+60TpjdMK",
      "include_colab_link": true
    },
    "kernelspec": {
      "name": "python3",
      "display_name": "Python 3"
    },
    "language_info": {
      "name": "python"
    }
  },
  "cells": [
    {
      "cell_type": "markdown",
      "metadata": {
        "id": "view-in-github",
        "colab_type": "text"
      },
      "source": [
        "<a href=\"https://colab.research.google.com/github/jorgg3/Proyecto-2/blob/main/Ejercicio_20.ipynb\" target=\"_parent\"><img src=\"https://colab.research.google.com/assets/colab-badge.svg\" alt=\"Open In Colab\"/></a>"
      ]
    },
    {
      "cell_type": "markdown",
      "source": [
        "# Práctica 2: Solución a Sistemas de Ecuaciones Lineales\n",
        "**Problemas Computacionales**\\\n",
        "Alumno: Martínez de la Cruz José Jorge\\\n",
        "Profesor: César Carreón Otañez\\\n",
        "Ayudante:  Jesús Iván Coss Calderón"
      ],
      "metadata": {
        "id": "-Lf5kOwZvAKc"
      }
    },
    {
      "cell_type": "code",
      "source": [
        "import numpy as np"
      ],
      "metadata": {
        "id": "n-Ocq6G2v8Xo"
      },
      "execution_count": 4,
      "outputs": []
    },
    {
      "cell_type": "markdown",
      "source": [
        "20) Dada la matriz\n",
        "\\begin{bmatrix}\n",
        "  1 & 0 & 0 & 0 & 1 \\\\\n",
        " -1 & 1 & 0 & 0 & 1 \\\\\n",
        " -1 & -1 & 1 & 0 & 1 \\\\\n",
        " -1 & -1 & -1 & 1 & 1 \\\\\n",
        " -1 & -1 & -1 & -1 & 1 \\\\\n",
        "\\end{bmatrix}\n"
      ],
      "metadata": {
        "id": "n70K8FslvDck"
      }
    },
    {
      "cell_type": "code",
      "source": [
        "A = np.array([[1,0,0,0,1],[-1,1,0,0,1],[-1,-1,1,0,1],[-1,-1,-1,1,1],[-1,-1,-1,-1,1]])\n",
        "print(A)\n"
      ],
      "metadata": {
        "colab": {
          "base_uri": "https://localhost:8080/"
        },
        "id": "tDVardSLvovN",
        "outputId": "f3c94b94-e830-4473-9681-48b7f79526d4"
      },
      "execution_count": 18,
      "outputs": [
        {
          "output_type": "stream",
          "name": "stdout",
          "text": [
            "[[ 1  0  0  0  1]\n",
            " [-1  1  0  0  1]\n",
            " [-1 -1  1  0  1]\n",
            " [-1 -1 -1  1  1]\n",
            " [-1 -1 -1 -1  1]]\n"
          ]
        }
      ]
    },
    {
      "cell_type": "markdown",
      "source": [
        "a) ¿Qué sucede cuando se usa Eliminación Gaussina con pivoteo parcial?."
      ],
      "metadata": {
        "id": "xu2IVK0dvvYe"
      }
    },
    {
      "cell_type": "markdown",
      "source": [
        "Para ello, ajustemos el programa para que realice el pivoteo parcial:"
      ],
      "metadata": {
        "id": "h1p6UM5gwG-j"
      }
    },
    {
      "cell_type": "code",
      "execution_count": 6,
      "metadata": {
        "id": "RL3jxtGAumOh"
      },
      "outputs": [],
      "source": [
        "def Paso1(M):\n",
        "    for k in range(0,len(M)): #Para cada una de las columnas:\n",
        "      #print(f\"k = {k}\")\n",
        "      columnas = [] #Guarda los elementos de la columna\n",
        "      for i in range (k,len(M)):\n",
        "        columnas.append(M[i][k])\n",
        "      t = 0\n",
        "      s = k + columnas.index(max(columnas))\n",
        "      for c in columnas:\n",
        "        if c == 0:\n",
        "          #print(f\"col = {columnas}, c = {c}\")\n",
        "          t += 1\n",
        "      if t != 0 and max(columnas) != 0: #Si algún elemento de la columna es 0 y el máximo no es 0\n",
        "          M[k], M[s] = M[s], M[k] #Intercambia renglones\n",
        "          #print(f\"cambio con s= {s} = \\n {np.array(M)}\")\n",
        "\n",
        "\n",
        "      for j in range(k+1, len(M) ):\n",
        "        if M[k][k] != 0:\n",
        "          a= -M[j][k]/M[k][k] #Pibote\n",
        "          M[j] = list(np.array(M[k])*a + M[j]) #Operaciones elementales\n",
        "        #print(f\"escalonado = \\n{np.array(M)}\")\n",
        "    return(np.array(M))\n"
      ]
    },
    {
      "cell_type": "code",
      "source": [
        "def Paso2 (B):\n",
        "  #print(np.array(B))\n",
        "  for i in range(len(B)-1, -1, -1): # Hacemos el procedimiento analogo con los indices en reversa\n",
        "  #para la columna 2:\n",
        "    for k in range(i-1,-1,-1):\n",
        "        if B[k][i] != 0:\n",
        "          a = -B[k][i]/B[i][i]\n",
        "          B[k] = (a* (np.array(B[i]))) + B[k]\n",
        "  return(np.array(B))"
      ],
      "metadata": {
        "id": "tochaErUwW_T"
      },
      "execution_count": 8,
      "outputs": []
    },
    {
      "cell_type": "code",
      "source": [
        "def GaussPP(Z): #Unimos ambas funciones\n",
        "  Z1 = Paso1(Z)\n",
        "\n",
        "  Z2 = Paso2(Z1)\n",
        "  return(Z2)"
      ],
      "metadata": {
        "id": "wFsh9uTBwaln"
      },
      "execution_count": 9,
      "outputs": []
    },
    {
      "cell_type": "code",
      "source": [
        "A_ = GaussPP(A)\n",
        "print(A_)"
      ],
      "metadata": {
        "colab": {
          "base_uri": "https://localhost:8080/"
        },
        "id": "udlRGXanwgCC",
        "outputId": "01168c45-ac96-4039-85ee-9c5b6e896ec3"
      },
      "execution_count": 21,
      "outputs": [
        {
          "output_type": "stream",
          "name": "stdout",
          "text": [
            "[[ 1  0  0  0  0]\n",
            " [ 0  1  0  0  0]\n",
            " [ 0  0  1  0  0]\n",
            " [ 0  0  0  1  0]\n",
            " [ 0  0  0  0 16]]\n"
          ]
        }
      ]
    },
    {
      "cell_type": "markdown",
      "source": [
        "La matríz queda diagonalizada de una manera partícular pues hay un factor $16$ en el último elemento."
      ],
      "metadata": {
        "id": "Kstk76x2wk2i"
      }
    },
    {
      "cell_type": "markdown",
      "source": [
        "(b) Usar Eliminación Gaussina con pivoteo parcial para resolver sistemas de varios tamaños (al menos 5) con vectores b elegidos por cualquier criterio. Describir como se comporta la condición de la matriz."
      ],
      "metadata": {
        "id": "Ll39dDzRw6M0"
      }
    },
    {
      "cell_type": "markdown",
      "source": [
        "Usaremos la norma 1, para describir la condición de la matríz, en el caso de la matríz anterior:\n"
      ],
      "metadata": {
        "id": "OCYteEDoxB6Y"
      }
    },
    {
      "cell_type": "code",
      "source": [
        "def norma1 (A) :\n",
        "  V = [] #Vector que guardará la suma de los valores absolutos por columna\n",
        "  for j in range(len(A[0])):\n",
        "    x = 0 #Para cada columna, comenzamos con 0\n",
        "    for i in range(len(A)):\n",
        "      x = x + abs(A[i][j]) #Empezamos a sumar los elementos con valor absoluto\n",
        "    V.append(x)\n",
        "  return max(V) #Retornamos el máximo"
      ],
      "metadata": {
        "id": "ZdF5mlEVxZfJ"
      },
      "execution_count": 11,
      "outputs": []
    },
    {
      "cell_type": "code",
      "source": [
        "print(f\"La condición de A = {norma1(A)* norma1(np.linalg.inv(A))}\")"
      ],
      "metadata": {
        "colab": {
          "base_uri": "https://localhost:8080/"
        },
        "id": "lsfx4HOcxnGn",
        "outputId": "2d49f151-69c3-4f0a-ac05-15d99ce5ec21"
      },
      "execution_count": 22,
      "outputs": [
        {
          "output_type": "stream",
          "name": "stdout",
          "text": [
            "La condición de A = 31.0\n"
          ]
        }
      ]
    },
    {
      "cell_type": "markdown",
      "source": [
        "$B=\n",
        "\\begin{bmatrix}\n",
        "  1 & 0 & 0 & 0 & 0 & 1 \\\\\n",
        " -1 & 1 & 0 & 0 & 0 & 1 \\\\\n",
        " -1 & -1 & 1 & 0 & 0 & 1 \\\\\n",
        " -1 & -1 & -1 & 1 & 0 & 1 \\\\\n",
        " -1 & -1 & -1 & -1 & 1 & 1 \\\\\n",
        " -1 & -1 & -1 & -1 & -1 & 1 \\\\\n",
        "\\end{bmatrix}$"
      ],
      "metadata": {
        "id": "yo1Tq6sKx_1u"
      }
    },
    {
      "cell_type": "code",
      "source": [
        "B = np.array([[1,0,0,0,0,1],[-1,1,0,0,0,1],[-1,-1,1,0,0,1],[-1,-1,-1,1,0,1],[-1,-1,-1, -1,1,1],[-1,-1,-1,-1,1,1]])\n",
        "print(B)"
      ],
      "metadata": {
        "colab": {
          "base_uri": "https://localhost:8080/"
        },
        "id": "gknIUtQmyZQB",
        "outputId": "2e00c3e2-2f12-4994-b5b2-db492d6da9ae"
      },
      "execution_count": 16,
      "outputs": [
        {
          "output_type": "stream",
          "name": "stdout",
          "text": [
            "[[ 1  0  0  0  0  1]\n",
            " [-1  1  0  0  0  1]\n",
            " [-1 -1  1  0  0  1]\n",
            " [-1 -1 -1  1  0  1]\n",
            " [-1 -1 -1 -1  1  1]\n",
            " [-1 -1 -1 -1  1  1]]\n"
          ]
        }
      ]
    },
    {
      "cell_type": "markdown",
      "source": [
        "En tamaño 6, la matríz es singular, por lo tanto $Cond(B) = ∞$"
      ],
      "metadata": {
        "id": "ABrJ2Wocy_-D"
      }
    },
    {
      "cell_type": "markdown",
      "source": [
        "$C = \\begin{bmatrix}\n",
        "  1 & 0 & 1 \\\\\n",
        " -1 & 1 & 1 \\\\\n",
        " -1 & -1 & 1 \\\\\n",
        "\\end{bmatrix}\n",
        "$"
      ],
      "metadata": {
        "id": "F471mONEzVMc"
      }
    },
    {
      "cell_type": "code",
      "source": [
        "C = np.array([[1,0,1],[-1,1,1],[-1,-1,1]])\n",
        "print(C)"
      ],
      "metadata": {
        "colab": {
          "base_uri": "https://localhost:8080/"
        },
        "id": "_3p_cgoByz_Z",
        "outputId": "2ac4fef9-20f2-4704-f2e7-3185539fb67b"
      },
      "execution_count": 25,
      "outputs": [
        {
          "output_type": "stream",
          "name": "stdout",
          "text": [
            "[[ 1  0  1]\n",
            " [-1  1  1]\n",
            " [-1 -1  1]]\n"
          ]
        }
      ]
    },
    {
      "cell_type": "code",
      "source": [
        "print(f\"La condición de C = {norma1(C)* norma1(np.linalg.inv(C))}\")"
      ],
      "metadata": {
        "colab": {
          "base_uri": "https://localhost:8080/"
        },
        "id": "DtYQM59tzkG6",
        "outputId": "7e9ac130-578f-46b9-b5b6-6f2ae1434729"
      },
      "execution_count": 26,
      "outputs": [
        {
          "output_type": "stream",
          "name": "stdout",
          "text": [
            "La condición de C = 3.0\n"
          ]
        }
      ]
    },
    {
      "cell_type": "markdown",
      "source": [
        "$D = \\begin{bmatrix}\n",
        "1 & 0 & 0 & 0 & 0 & 0 & 0 & 0 & 0 & 1 \\\\\n",
        "-1 & 1 & 0 & 0 & 0 & 0 & 0 & 0 & 0 & 1 \\\\\n",
        "-1 & -1 & 1 & 0 & 0 & 0 & 0 & 0 & 0 & 1 \\\\\n",
        "-1 & -1 & -1 & 1 & 0 & 0 & 0 & 0 & 0 & 1 \\\\\n",
        "-1 & -1 & -1 & -1 & 1 & 0 & 0 & 0 & 0 & 1 \\\\\n",
        "-1 & -1 & -1 & -1 & -1 & 1 & 0 & 0 & 0 & 1 \\\\\n",
        "-1 & -1 & -1 & -1 & -1 & -1 & 1 & 0 & 0 & 1 \\\\\n",
        "-1 & -1 & -1 & -1 & -1 & -1 & -1 & 1 & 0 & 1 \\\\\n",
        "-1 & -1 & -1 & -1 & -1 & -1 & -1 & -1 & 1 & 1 \\\\\n",
        "-1 & -1 & -1 & -1 & -1 & -1 & -1 & -1 & -1 & 1 \\\\\n",
        "\\end{bmatrix} $\n"
      ],
      "metadata": {
        "id": "jt1rktzn0La_"
      }
    },
    {
      "cell_type": "code",
      "source": [
        "\n",
        "D = np.zeros((10, 10))\n",
        "np.fill_diagonal(D, 1)\n",
        "for i in range(1, 10):\n",
        "    D[i, :i] = -1\n",
        "D[:, -1] = 1\n",
        "\n",
        "print(D)\n"
      ],
      "metadata": {
        "colab": {
          "base_uri": "https://localhost:8080/"
        },
        "id": "bo4oCuH70LEq",
        "outputId": "be6b88f9-e40d-4d7c-8f83-9d3c15eb0735"
      },
      "execution_count": 27,
      "outputs": [
        {
          "output_type": "stream",
          "name": "stdout",
          "text": [
            "[[ 1.  0.  0.  0.  0.  0.  0.  0.  0.  1.]\n",
            " [-1.  1.  0.  0.  0.  0.  0.  0.  0.  1.]\n",
            " [-1. -1.  1.  0.  0.  0.  0.  0.  0.  1.]\n",
            " [-1. -1. -1.  1.  0.  0.  0.  0.  0.  1.]\n",
            " [-1. -1. -1. -1.  1.  0.  0.  0.  0.  1.]\n",
            " [-1. -1. -1. -1. -1.  1.  0.  0.  0.  1.]\n",
            " [-1. -1. -1. -1. -1. -1.  1.  0.  0.  1.]\n",
            " [-1. -1. -1. -1. -1. -1. -1.  1.  0.  1.]\n",
            " [-1. -1. -1. -1. -1. -1. -1. -1.  1.  1.]\n",
            " [-1. -1. -1. -1. -1. -1. -1. -1. -1.  1.]]\n"
          ]
        }
      ]
    },
    {
      "cell_type": "code",
      "source": [
        "print(f\"La condición de D = {norma1(D)* norma1(np.linalg.inv(D))}\")"
      ],
      "metadata": {
        "colab": {
          "base_uri": "https://localhost:8080/"
        },
        "id": "DVddS-TU0xkP",
        "outputId": "005c557e-592b-4352-d599-9b2bfb0c2979"
      },
      "execution_count": 28,
      "outputs": [
        {
          "output_type": "stream",
          "name": "stdout",
          "text": [
            "La condición de D = 10.0\n"
          ]
        }
      ]
    },
    {
      "cell_type": "markdown",
      "source": [
        "$ E= \\begin{bmatrix}\n",
        "1 & 1 \\\\\n",
        "-1 & 1\n",
        "\\end{bmatrix}\n",
        "$"
      ],
      "metadata": {
        "id": "wUjPOK721I8T"
      }
    },
    {
      "cell_type": "code",
      "source": [
        "E = np.array([[1,1],[-1,1]])\n",
        "print(E)"
      ],
      "metadata": {
        "colab": {
          "base_uri": "https://localhost:8080/"
        },
        "id": "pOyglfAU1Qc2",
        "outputId": "a94a8641-b0a6-4c83-9fe9-cc0f63eb19b1"
      },
      "execution_count": 29,
      "outputs": [
        {
          "output_type": "stream",
          "name": "stdout",
          "text": [
            "[[ 1  1]\n",
            " [-1  1]]\n"
          ]
        }
      ]
    },
    {
      "cell_type": "code",
      "source": [
        "print(f\"La condición de E = {norma1(E)* norma1(np.linalg.inv(E))}\")"
      ],
      "metadata": {
        "colab": {
          "base_uri": "https://localhost:8080/"
        },
        "id": "XONb2vEv1VSm",
        "outputId": "181873f7-fa17-44c5-d5e6-7cd39228a032"
      },
      "execution_count": 30,
      "outputs": [
        {
          "output_type": "stream",
          "name": "stdout",
          "text": [
            "La condición de E = 2.0\n"
          ]
        }
      ]
    },
    {
      "cell_type": "markdown",
      "source": [
        "La condición de la matríz disminuye conforme el tamaño disminuye, en tamaño 6 la matríz es singular, ahora resolvamos algunos de los sistemas con un vector partícular:"
      ],
      "metadata": {
        "id": "w8jt5CUf1gyt"
      }
    },
    {
      "cell_type": "code",
      "source": [
        "def EPaso1(M):\n",
        "    for k in range(0,len(M)-1): #Para cada una de las columnas:\n",
        "      #print(f\"k = {k}\")\n",
        "      columnas = [] #Guarda los elementos de la columna\n",
        "      for i in range (k,len(M)):\n",
        "        columnas.append(M[i][k])\n",
        "      t = 0\n",
        "      s = k + columnas.index(max(columnas))\n",
        "      for c in columnas:\n",
        "        if c == 0:\n",
        "          #print(f\"col = {columnas}, c = {c}\")\n",
        "          t += 1\n",
        "      if t != 0 and max(columnas) != 0: #Si algún elemento de la columna es 0 y el máximo no es 0\n",
        "          M[k], M[s] = M[s], M[k] #Intercambia renglones\n",
        "          #print(f\"cambio con s= {s} = \\n {np.array(M)}\")\n",
        "\n",
        "\n",
        "      for j in range(k+1, len(M) ):\n",
        "        if M[k][k] != 0:\n",
        "          a= -M[j][k]/M[k][k] #Pibote\n",
        "          M[j] = list(np.array(M[k])*a + M[j]) #Operaciones elementales\n",
        "        #print(f\"escalonado = \\n{np.array(M)}\")\n",
        "    return(np.array(M))\n",
        "def EPaso2 (B):\n",
        "  #print(np.array(B))\n",
        "  for i in range(len(B)-1, -1, -1): # Hacemos el procedimiento analogo con los indices en reversa\n",
        "  #para la columna 2:\n",
        "    for k in range(i-1,-1,-1):\n",
        "        if B[k][i] != 0:\n",
        "          a = -B[k][i]/B[i][i]\n",
        "          B[k] = (a* (np.array(B[i]))) + B[k]\n",
        "  return(np.array(B))\n",
        "def SolveGauss(Z): #Unimos ambas funciones\n",
        "  Z1 = EPaso1(Z)\n",
        "\n",
        "  Z2 = EPaso2(Z1)\n",
        "  return(Z2)"
      ],
      "metadata": {
        "id": "YZt7wK9m15Ce"
      },
      "execution_count": 31,
      "outputs": []
    },
    {
      "cell_type": "markdown",
      "source": [
        "En cualquier tamaño, la solución será el vector $b = [1, 2, ..., n]$"
      ],
      "metadata": {
        "id": "z40vlpOU2hEZ"
      }
    },
    {
      "cell_type": "code",
      "source": [
        "A = np.array([[1,0,0,0,1, 1],[-1,1,0,0,1,2],[-1,-1,1,0,1, 3],[-1,-1,-1,1,1, 4],[-1,-1,-1,-1,1, 5]])\n",
        "print(A)\n"
      ],
      "metadata": {
        "colab": {
          "base_uri": "https://localhost:8080/"
        },
        "id": "imi8Zutv2Vw2",
        "outputId": "667e1fcc-6177-4ee9-98d0-cfddfbc7fc3f"
      },
      "execution_count": 32,
      "outputs": [
        {
          "output_type": "stream",
          "name": "stdout",
          "text": [
            "[[ 1  0  0  0  1  1]\n",
            " [-1  1  0  0  1  2]\n",
            " [-1 -1  1  0  1  3]\n",
            " [-1 -1 -1  1  1  4]\n",
            " [-1 -1 -1 -1  1  5]]\n"
          ]
        }
      ]
    },
    {
      "cell_type": "code",
      "source": [
        "SolveGauss(A)"
      ],
      "metadata": {
        "colab": {
          "base_uri": "https://localhost:8080/"
        },
        "id": "JJ3QUGNw234o",
        "outputId": "bbd8a6b0-8f6f-42d7-e019-235f4714acc1"
      },
      "execution_count": 33,
      "outputs": [
        {
          "output_type": "execute_result",
          "data": {
            "text/plain": [
              "array([[ 1,  0,  0,  0,  0,  0],\n",
              "       [ 0,  1,  0,  0,  0,  0],\n",
              "       [ 0,  0,  1,  0,  0,  0],\n",
              "       [ 0,  0,  0,  1,  0,  0],\n",
              "       [ 0,  0,  0,  0, 16, 31]])"
            ]
          },
          "metadata": {},
          "execution_count": 33
        }
      ]
    },
    {
      "cell_type": "markdown",
      "source": [
        "La solución es la trivial con exepción del $x_5 = \\frac{31}{16}$"
      ],
      "metadata": {
        "id": "PC62gYX_282l"
      }
    },
    {
      "cell_type": "code",
      "source": [
        "B = np.array([[1,0,0,0,0,1, 1],[-1,1,0,0,0,1, 2],[-1,-1,1,0,0,1, 3],[-1,-1,-1,1,0,1, 4],[-1,-1,-1, -1,1,1, 5],[-1,-1,-1,-1,1,1, 6]])\n",
        "print(B)"
      ],
      "metadata": {
        "colab": {
          "base_uri": "https://localhost:8080/"
        },
        "id": "c3W5wCm13EzN",
        "outputId": "b9a8c964-d1ca-41af-f79e-d341c692a61d"
      },
      "execution_count": 34,
      "outputs": [
        {
          "output_type": "stream",
          "name": "stdout",
          "text": [
            "[[ 1  0  0  0  0  1  1]\n",
            " [-1  1  0  0  0  1  2]\n",
            " [-1 -1  1  0  0  1  3]\n",
            " [-1 -1 -1  1  0  1  4]\n",
            " [-1 -1 -1 -1  1  1  5]\n",
            " [-1 -1 -1 -1  1  1  6]]\n"
          ]
        }
      ]
    },
    {
      "cell_type": "code",
      "source": [
        "SolveGauss(B)"
      ],
      "metadata": {
        "colab": {
          "base_uri": "https://localhost:8080/"
        },
        "id": "j3mJj1nQ3QAJ",
        "outputId": "e17efd75-dd02-4387-cf62-895c70110334"
      },
      "execution_count": 35,
      "outputs": [
        {
          "output_type": "stream",
          "name": "stderr",
          "text": [
            "<ipython-input-31-6e54928a7929>:30: RuntimeWarning: divide by zero encountered in scalar divide\n",
            "  a = -B[k][i]/B[i][i]\n",
            "<ipython-input-31-6e54928a7929>:31: RuntimeWarning: invalid value encountered in multiply\n",
            "  B[k] = (a* (np.array(B[i]))) + B[k]\n",
            "<ipython-input-31-6e54928a7929>:31: RuntimeWarning: invalid value encountered in cast\n",
            "  B[k] = (a* (np.array(B[i]))) + B[k]\n",
            "<ipython-input-31-6e54928a7929>:30: RuntimeWarning: overflow encountered in scalar negative\n",
            "  a = -B[k][i]/B[i][i]\n"
          ]
        },
        {
          "output_type": "execute_result",
          "data": {
            "text/plain": [
              "array([[-9223372036854775808, -9223372036854775808, -9223372036854775808,\n",
              "        -9223372036854775808, -9223372036854775808, -9223372036854775808,\n",
              "        -9223372036854775808],\n",
              "       [-9223372036854775808, -9223372036854775808, -9223372036854775808,\n",
              "        -9223372036854775808, -9223372036854775808, -9223372036854775808,\n",
              "        -9223372036854775808],\n",
              "       [-9223372036854775808, -9223372036854775808, -9223372036854775808,\n",
              "        -9223372036854775808, -9223372036854775808, -9223372036854775808,\n",
              "        -9223372036854775808],\n",
              "       [-9223372036854775808, -9223372036854775808, -9223372036854775808,\n",
              "        -9223372036854775808, -9223372036854775808, -9223372036854775808,\n",
              "        -9223372036854775808],\n",
              "       [-9223372036854775808, -9223372036854775808, -9223372036854775808,\n",
              "        -9223372036854775808, -9223372036854775808, -9223372036854775808,\n",
              "        -9223372036854775808],\n",
              "       [                   0,                    0,                    0,\n",
              "                           0,                    0,                    0,\n",
              "                           1]])"
            ]
          },
          "metadata": {},
          "execution_count": 35
        }
      ]
    },
    {
      "cell_type": "markdown",
      "source": [
        "No hay solución pues como se dijo anteriormente, es una matríz singular"
      ],
      "metadata": {
        "id": "6m1zWgYv3SJM"
      }
    },
    {
      "cell_type": "code",
      "source": [
        "C = np.array([[1,0,1, 1],[-1,1,1, 2],[-1,-1,1, 3]])\n",
        "print(C)"
      ],
      "metadata": {
        "colab": {
          "base_uri": "https://localhost:8080/"
        },
        "id": "rvz0Kbxf3YbO",
        "outputId": "3755e2e3-73c6-4797-f784-dfd4d94af59c"
      },
      "execution_count": 36,
      "outputs": [
        {
          "output_type": "stream",
          "name": "stdout",
          "text": [
            "[[ 1  0  1  1]\n",
            " [-1  1  1  2]\n",
            " [-1 -1  1  3]]\n"
          ]
        }
      ]
    },
    {
      "cell_type": "code",
      "source": [
        "SolveGauss(C)"
      ],
      "metadata": {
        "colab": {
          "base_uri": "https://localhost:8080/"
        },
        "id": "1k1KmIaP3eqs",
        "outputId": "5b386ded-93d4-4d51-9133-2d7950566cc0"
      },
      "execution_count": 37,
      "outputs": [
        {
          "output_type": "execute_result",
          "data": {
            "text/plain": [
              "array([[1, 0, 0, 0],\n",
              "       [0, 1, 0, 0],\n",
              "       [0, 0, 4, 7]])"
            ]
          },
          "metadata": {},
          "execution_count": 37
        }
      ]
    },
    {
      "cell_type": "markdown",
      "source": [
        "La solución es la trivial a excepción de $x_3 = \\frac{7}{4}$"
      ],
      "metadata": {
        "id": "y9GWNLCz3h2i"
      }
    },
    {
      "cell_type": "code",
      "source": [
        "D = np.zeros((11, 11))\n",
        "np.fill_diagonal(D, 1)\n",
        "for i in range(1, 11):\n",
        "    D[i, :i] = -1\n",
        "D[:, -2] = 1\n",
        "for j in range (0, 11):\n",
        "  D[j, -1] = j+1\n",
        "\n",
        "print(D)"
      ],
      "metadata": {
        "colab": {
          "base_uri": "https://localhost:8080/"
        },
        "id": "nAYn5SGm3oIh",
        "outputId": "d6e369df-a659-48bc-9541-6c799c524efe"
      },
      "execution_count": 43,
      "outputs": [
        {
          "output_type": "stream",
          "name": "stdout",
          "text": [
            "[[ 1.  0.  0.  0.  0.  0.  0.  0.  0.  1.  1.]\n",
            " [-1.  1.  0.  0.  0.  0.  0.  0.  0.  1.  2.]\n",
            " [-1. -1.  1.  0.  0.  0.  0.  0.  0.  1.  3.]\n",
            " [-1. -1. -1.  1.  0.  0.  0.  0.  0.  1.  4.]\n",
            " [-1. -1. -1. -1.  1.  0.  0.  0.  0.  1.  5.]\n",
            " [-1. -1. -1. -1. -1.  1.  0.  0.  0.  1.  6.]\n",
            " [-1. -1. -1. -1. -1. -1.  1.  0.  0.  1.  7.]\n",
            " [-1. -1. -1. -1. -1. -1. -1.  1.  0.  1.  8.]\n",
            " [-1. -1. -1. -1. -1. -1. -1. -1.  1.  1.  9.]\n",
            " [-1. -1. -1. -1. -1. -1. -1. -1. -1.  1. 10.]\n",
            " [-1. -1. -1. -1. -1. -1. -1. -1. -1.  1. 11.]]\n"
          ]
        }
      ]
    },
    {
      "cell_type": "code",
      "source": [
        "SolveGauss(D)"
      ],
      "metadata": {
        "colab": {
          "base_uri": "https://localhost:8080/"
        },
        "id": "zMulh5Nf33oC",
        "outputId": "9c13d112-adef-4c9b-87ce-b72594f2bcab"
      },
      "execution_count": 44,
      "outputs": [
        {
          "output_type": "execute_result",
          "data": {
            "text/plain": [
              "array([[  1.,   0.,   0.,   0.,   0.,   0.,   0.,   0.,   0.,   0.,   0.],\n",
              "       [  0.,   1.,   0.,   0.,   0.,   0.,   0.,   0.,   0.,   0.,   0.],\n",
              "       [  0.,   0.,   1.,   0.,   0.,   0.,   0.,   0.,   0.,   0.,   0.],\n",
              "       [  0.,   0.,   0.,   1.,   0.,   0.,   0.,   0.,   0.,   0.,   0.],\n",
              "       [  0.,   0.,   0.,   0.,   1.,   0.,   0.,   0.,   0.,   0.,   0.],\n",
              "       [  0.,   0.,   0.,   0.,   0.,   1.,   0.,   0.,   0.,   0.,   0.],\n",
              "       [  0.,   0.,   0.,   0.,   0.,   0.,   1.,   0.,   0.,   0.,   0.],\n",
              "       [  0.,   0.,   0.,   0.,   0.,   0.,   0.,   1.,   0.,   0.,   0.],\n",
              "       [  0.,   0.,   0.,   0.,   0.,   0.,   0.,   0.,   1.,   0.,   0.],\n",
              "       [  0.,   0.,   0.,   0.,   0.,   0.,   0.,   0.,   0., 512.,   0.],\n",
              "       [  0.,   0.,   0.,   0.,   0.,   0.,   0.,   0.,   0.,   0.,   1.]])"
            ]
          },
          "metadata": {},
          "execution_count": 44
        }
      ]
    },
    {
      "cell_type": "markdown",
      "source": [
        "Aquí la solución no tiene mucho sentido pues tenemos una ecuación $0 = 1$"
      ],
      "metadata": {
        "id": "PQ24eWf14EUd"
      }
    },
    {
      "cell_type": "code",
      "source": [
        "E = np.array([[1,1, 1],[-1,1, 2]])\n",
        "print(E)"
      ],
      "metadata": {
        "colab": {
          "base_uri": "https://localhost:8080/"
        },
        "id": "LObut9m74KBW",
        "outputId": "89d7afe4-8416-41c0-a20d-b40cdd27e9e2"
      },
      "execution_count": 45,
      "outputs": [
        {
          "output_type": "stream",
          "name": "stdout",
          "text": [
            "[[ 1  1  1]\n",
            " [-1  1  2]]\n"
          ]
        }
      ]
    },
    {
      "cell_type": "code",
      "source": [
        "SolveGauss(E)"
      ],
      "metadata": {
        "colab": {
          "base_uri": "https://localhost:8080/"
        },
        "id": "rZvTNLVd4Py6",
        "outputId": "c478f238-d7d5-4e3b-c46c-e1df8a7890b8"
      },
      "execution_count": 46,
      "outputs": [
        {
          "output_type": "execute_result",
          "data": {
            "text/plain": [
              "array([[1, 0, 0],\n",
              "       [0, 2, 3]])"
            ]
          },
          "metadata": {},
          "execution_count": 46
        }
      ]
    },
    {
      "cell_type": "markdown",
      "source": [
        "La solución es la trivial a exepción del $x_2 = \\frac{3}{2}$"
      ],
      "metadata": {
        "id": "Kwla4WKX4T1s"
      }
    },
    {
      "cell_type": "markdown",
      "source": [
        "c) Escribir una rutina que factorice la matriz (LU) con pivoteo total."
      ],
      "metadata": {
        "id": "xtcveU0KFYtQ"
      }
    },
    {
      "cell_type": "code",
      "source": [
        "def FactLU(A):\n",
        "  U=np.copy(A)\n",
        "  n=A.shape[1]\n",
        "  L=np.eye(n)\n",
        "  for j in range(n):\n",
        "    Lj=np.eye(n)\n",
        "    for i in range(j+1,n):\n",
        "      Lj[i,j]=-U[i,j]/U[j,j]\n",
        "    L=L@Lj\n",
        "    #print(Lj,j)\n",
        "    U=Lj@U\n",
        "  L=2*np.eye(n)-L\n",
        "  return L,U\n",
        "\n",
        "def SustDelante(L,b):\n",
        "  x=np.zeros_like(b)\n",
        "  n=L.shape[0]# cantidad de renglones de L\n",
        "  for i in range(n):\n",
        "    sum=0.0\n",
        "    for j in range(i):\n",
        "      sum+=L[i,j]*x[j]\n",
        "    x[i]=(b[i]-sum)/L[i,i]\n",
        "\n",
        "  return x\n",
        "\n",
        "def SustAtras(U,y):\n",
        "  x=np.zeros_like(y)\n",
        "  n=U.shape[0]# cantidad de renglones de U\n",
        "  x[n-1]=y[n-1]/U[n-1][n-1]\n",
        "\n",
        "  for i in range(n-2,-1,-1):\n",
        "    sum=0.0\n",
        "    for j in range(i+1,n):\n",
        "      sum+=U[i,j]*x[j]\n",
        "    x[i]=(y[i]-sum)/U[i,i]\n",
        "\n",
        "  return x\n",
        "\n",
        "def SolverLU(A,b):\n",
        "  L,U=FactLU(A)\n",
        "  y=SustDelante(L,b)\n",
        "  x=SustAtras(U,y)\n",
        "\n",
        "  return x"
      ],
      "metadata": {
        "id": "y8hz1yvnFbOT"
      },
      "execution_count": 47,
      "outputs": []
    },
    {
      "cell_type": "code",
      "source": [
        "def PermutacionTotal(A, y):\n",
        "    \"\"\"\n",
        "    Realiza el pivoteo total en la matriz A con el vector y.\n",
        "    Esto implica la búsqueda del mayor elemento en valor absoluto\n",
        "    en la submatriz reducida, intercambiando tanto filas como columnas.\n",
        "    \"\"\"\n",
        "    U = np.copy(A)\n",
        "    b = np.copy(y)\n",
        "    n = U.shape[0]\n",
        "    Ps = []\n",
        "    perm = np.arange(n) #Orden\n",
        "\n",
        "    for i in range(n):\n",
        "        # Encuentra la posición del mayor elemento en valor absoluto en la submatriz U[i:, i:]\n",
        "        submatrix = np.abs(U[i:, i:])\n",
        "        max_pos = np.unravel_index(np.argmax(submatrix), submatrix.shape)\n",
        "        max_row, max_col = max_pos[0] + i, max_pos[1] + i\n",
        "\n",
        "        # Intercambia filas en U y b\n",
        "        if max_row != i:\n",
        "            U[[i, max_row]] = U[[max_row, i]]\n",
        "            b[[i, max_row]] = b[[max_row, i]]\n",
        "\n",
        "        # Intercambia columnas en U y actualiza el orden en perm\n",
        "        if max_col != i:\n",
        "            U[:, [i, max_col]] = U[:, [max_col, i]]\n",
        "            perm[[i, max_col]] = perm[[max_col, i]]\n",
        "\n",
        "        # Registra la permutación aplicada\n",
        "        P = np.eye(n)\n",
        "        if max_row != i:\n",
        "            P[[i, max_row]] = P[[max_row, i]]\n",
        "        if max_col != i:\n",
        "            P[:, [i, max_col]] = P[:, [max_col, i]]\n",
        "        Ps.append(P)\n",
        "\n",
        "    return Ps, U, b, perm\n"
      ],
      "metadata": {
        "id": "jDOhFuVLFoUz"
      },
      "execution_count": 48,
      "outputs": []
    },
    {
      "cell_type": "code",
      "source": [
        "def LUConPivoteoTotal(A, y):\n",
        "    #Realizamos el pivoteo total sobre la matriz A y el vector y\n",
        "    Ps, U_permutada, b_permutada, perm = PermutacionTotal(A, y)\n",
        "\n",
        "    # Realizamos la factorización LU sobre la matriz permutada\n",
        "    L, U = FactLU(U_permutada)\n",
        "\n",
        "    #Se ajusta el vector de términos independientes según las permutaciones aplicadas\n",
        "    b_final = b_permutada\n",
        "\n",
        "    #Regresa L, U, el vector permutado, y las permutaciones aplicadas\n",
        "    return L, U, b_final, perm"
      ],
      "metadata": {
        "id": "7ULBi_yCF1Uf"
      },
      "execution_count": 49,
      "outputs": []
    }
  ]
}