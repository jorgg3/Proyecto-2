{
  "nbformat": 4,
  "nbformat_minor": 0,
  "metadata": {
    "colab": {
      "provenance": [],
      "authorship_tag": "ABX9TyPyvQ4O0n91Kdxh2PlVTggO",
      "include_colab_link": true
    },
    "kernelspec": {
      "name": "python3",
      "display_name": "Python 3"
    },
    "language_info": {
      "name": "python"
    }
  },
  "cells": [
    {
      "cell_type": "markdown",
      "metadata": {
        "id": "view-in-github",
        "colab_type": "text"
      },
      "source": [
        "<a href=\"https://colab.research.google.com/github/jorgg3/Proyecto-2/blob/main/Ejercicio_23.ipynb\" target=\"_parent\"><img src=\"https://colab.research.google.com/assets/colab-badge.svg\" alt=\"Open In Colab\"/></a>"
      ]
    },
    {
      "cell_type": "markdown",
      "source": [
        "# Práctica 2: Solución a Sistemas de Ecuaciones Lineales\n",
        "**Problemas Computacionales**\\\n",
        "Alumno: Martínez de la Cruz José Jorge\\\n",
        "Profesor: César Carreón Otañez\\\n",
        "Ayudante:  Jesús Iván Coss Calderón"
      ],
      "metadata": {
        "id": "pPcX6EjAIgOd"
      }
    },
    {
      "cell_type": "markdown",
      "source": [
        "23) Programar la Factorización de Cholesky dada por:\\\n",
        "a) $A = LL^{T}$, $L$ triangular inferior\\\n",
        "b) $A = LDL^T$, $L$ triangular inferior y $D$ diagonal."
      ],
      "metadata": {
        "id": "kXwQ_ZUfIi55"
      }
    },
    {
      "cell_type": "markdown",
      "source": [
        "b) En la realización de éste inciso, se hará uso de la factorización LU para obtener las matríces solicitadas:\n"
      ],
      "metadata": {
        "id": "YBxPyJdhKY6i"
      }
    },
    {
      "cell_type": "code",
      "source": [
        "import numpy as np\n",
        "\n",
        "def FactLU(A):\n",
        "    \"\"\"\n",
        "    Realiza la factorización LU de una matriz cuadrada A, descomponiéndola en el producto de\n",
        "    una matriz triangular inferior L y una matriz triangular superior U, tales que A = LU.\n",
        "\n",
        "    Parámetros:\n",
        "    A (numpy.ndarray): La matriz cuadrada que se desea factorizar.\n",
        "\n",
        "    Retorna:\n",
        "    tuple: Una tupla (L, U), donde:\n",
        "        - L (numpy.ndarray): Matriz triangular inferior.\n",
        "        - U (numpy.ndarray): Matriz triangular superior.\n",
        "    \"\"\"\n",
        "    U = np.copy(A)  # Copia la matriz A para trabajar en U sin modificar A directamente\n",
        "    n = A.shape[1]  # Número de columnas (y filas, ya que es cuadrada)\n",
        "    L = np.eye(n)  # Inicializa L como la matriz identidad de tamaño n\n",
        "\n",
        "    # Realiza iteración sobre las columnas para la construcción de L y U\n",
        "    for j in range(n):\n",
        "        Lj = np.eye(n)  # Matriz identidad que actuará como transformadora en cada paso\n",
        "        for i in range(j + 1, n):\n",
        "            Lj[i, j] = -U[i, j] / U[j, j]  # Calcula el multiplicador para hacer ceros en U\n",
        "        L = L @ Lj  # Acumula el producto de matrices transformadoras en L\n",
        "        U = Lj @ U  # Aplica la transformación en U para hacer ceros debajo del pivote actual\n",
        "\n",
        "    # Ajusta L para obtener la matriz triangular inferior correcta\n",
        "    L = 2 * np.eye(n) - L\n",
        "\n",
        "    return L, U  # Retorna las matrices L y U resultantes"
      ],
      "metadata": {
        "id": "0kaofasuKiQv"
      },
      "execution_count": 18,
      "outputs": []
    },
    {
      "cell_type": "code",
      "source": [
        "import numpy as np\n",
        "\n",
        "def CholeskyB(A):\n",
        "    \"\"\"\n",
        "    Realiza una factorización alternativa de Cholesky para una matriz simétrica y definida positiva A.\n",
        "    Esta versión descompone A en el producto de una matriz triangular inferior L,\n",
        "    una matriz diagonal D, y la transpuesta de L, de modo que A = L * D * L^T.\n",
        "\n",
        "    Parámetros:\n",
        "    A (numpy.ndarray): La matriz simétrica y definida positiva que se desea factorizar.\n",
        "\n",
        "    Retorna:\n",
        "    tuple: Una tupla (L, D), donde:\n",
        "        - L (numpy.ndarray): Matriz triangular inferior obtenida de la factorización LU.\n",
        "        - D (numpy.ndarray): Matriz diagonal con los elementos de la diagonal de U.\n",
        "    \"\"\"\n",
        "    # Inicializa D como una matriz identidad del mismo tamaño que A\n",
        "    D = np.eye(len(A))\n",
        "\n",
        "    # Realiza la factorización LU de A, obteniendo L y U\n",
        "    L, U = FactLU(A)\n",
        "\n",
        "    # Llena la matriz D con los elementos de la diagonal de U\n",
        "    for i in range(len(U)):\n",
        "        D[i][i] = U[i][i]\n",
        "\n",
        "    return L, D  # Retorna las matrices L y D resultantes\n"
      ],
      "metadata": {
        "id": "YWjAkP3kKqSV"
      },
      "execution_count": 19,
      "outputs": []
    },
    {
      "cell_type": "markdown",
      "source": [
        "**Ejemplo:**"
      ],
      "metadata": {
        "id": "0APKzjsiLmu3"
      }
    },
    {
      "cell_type": "code",
      "source": [
        "A = np.array([\n",
        "    [4, 1, 2],\n",
        "    [1, 3, 0],\n",
        "    [2, 0, 2]\n",
        "])\n",
        "A"
      ],
      "metadata": {
        "id": "jT1KB0kJLpL7",
        "colab": {
          "base_uri": "https://localhost:8080/"
        },
        "outputId": "d050a235-e573-49d6-aab9-6abdd0e0975f"
      },
      "execution_count": 20,
      "outputs": [
        {
          "output_type": "execute_result",
          "data": {
            "text/plain": [
              "array([[4, 1, 2],\n",
              "       [1, 3, 0],\n",
              "       [2, 0, 2]])"
            ]
          },
          "metadata": {},
          "execution_count": 20
        }
      ]
    },
    {
      "cell_type": "code",
      "source": [
        "L = CholeskyB(A)[0]\n",
        "LT = L.T\n",
        "D = CholeskyB(A)[1]"
      ],
      "metadata": {
        "id": "TEzfdFypMiz4"
      },
      "execution_count": 27,
      "outputs": []
    },
    {
      "cell_type": "code",
      "source": [
        "L@D@LT"
      ],
      "metadata": {
        "colab": {
          "base_uri": "https://localhost:8080/"
        },
        "id": "gJcBZxMMNz7l",
        "outputId": "4b77451c-d126-4396-99bd-5eb0dbeaa5a6"
      },
      "execution_count": 28,
      "outputs": [
        {
          "output_type": "execute_result",
          "data": {
            "text/plain": [
              "array([[ 4.00000000e+00,  1.00000000e+00,  2.00000000e+00],\n",
              "       [ 1.00000000e+00,  3.00000000e+00, -1.38777878e-17],\n",
              "       [ 2.00000000e+00,  0.00000000e+00,  2.00000000e+00]])"
            ]
          },
          "metadata": {},
          "execution_count": 28
        }
      ]
    },
    {
      "cell_type": "markdown",
      "source": [
        "a) Usaremos el ejercicio anterior para terminar el ejercicio"
      ],
      "metadata": {
        "id": "2Z-RAjYaOIiV"
      }
    },
    {
      "cell_type": "code",
      "source": [
        "import numpy as np\n",
        "\n",
        "def Cholesky(A):\n",
        "    \"\"\"\n",
        "    Realiza la factorización de Cholesky de una matriz simétrica y definida positiva A.\n",
        "    La función descompone A en el producto de una matriz triangular inferior L y su transpuesta,\n",
        "    de modo que A = L * L^T.\n",
        "\n",
        "    Este método utiliza una factorización intermedia `L * D * L^T`, donde D es una matriz diagonal,\n",
        "    y luego ajusta D para obtener la forma estándar de la factorización de Cholesky.\n",
        "\n",
        "    Parámetros:\n",
        "    A (numpy.ndarray): La matriz simétrica y definida positiva que se desea factorizar.\n",
        "\n",
        "    Retorna:\n",
        "    numpy.ndarray: La matriz triangular inferior L tal que A = L * L^T.\n",
        "    \"\"\"\n",
        "    # Inicializa Du como una matriz identidad que contendrá la raíz cuadrada de los elementos de D en la diagonal\n",
        "    Du = np.eye(len(A))\n",
        "\n",
        "    # Descomposición preliminar usando CholeskyB para obtener matrices L y D\n",
        "    L, D = CholeskyB(A)\n",
        "\n",
        "    # Reemplaza la diagonal de Du con la raíz cuadrada de los elementos de la diagonal de D\n",
        "    for i in range(len(A)):\n",
        "        Du[i][i] = np.sqrt(D[i][i])\n",
        "\n",
        "    # Devuelve el producto L @ Du, que representa la matriz L de la factorización de Cholesky estándar\n",
        "    return L @ Du\n"
      ],
      "metadata": {
        "id": "__i_yMZ7OPEr"
      },
      "execution_count": 29,
      "outputs": []
    },
    {
      "cell_type": "markdown",
      "source": [
        "**Ejemplo**\n"
      ],
      "metadata": {
        "id": "hDx3kwPVPAav"
      }
    },
    {
      "cell_type": "code",
      "source": [
        "L = Cholesky(A)\n",
        "L"
      ],
      "metadata": {
        "colab": {
          "base_uri": "https://localhost:8080/"
        },
        "id": "otx9oQqMPEl6",
        "outputId": "b4d2bc89-c539-4e83-9dde-204dcb74d5c2"
      },
      "execution_count": 30,
      "outputs": [
        {
          "output_type": "execute_result",
          "data": {
            "text/plain": [
              "array([[ 2.        ,  0.        ,  0.        ],\n",
              "       [ 0.5       ,  1.6583124 ,  0.        ],\n",
              "       [ 1.        , -0.30151134,  0.95346259]])"
            ]
          },
          "metadata": {},
          "execution_count": 30
        }
      ]
    },
    {
      "cell_type": "code",
      "source": [
        "Lt = L.T\n",
        "Lt"
      ],
      "metadata": {
        "colab": {
          "base_uri": "https://localhost:8080/"
        },
        "id": "V_IPTsavPIXE",
        "outputId": "89cb7a09-8c08-495a-af2f-2b67d3008e01"
      },
      "execution_count": 32,
      "outputs": [
        {
          "output_type": "execute_result",
          "data": {
            "text/plain": [
              "array([[ 2.        ,  0.5       ,  1.        ],\n",
              "       [ 0.        ,  1.6583124 , -0.30151134],\n",
              "       [ 0.        ,  0.        ,  0.95346259]])"
            ]
          },
          "metadata": {},
          "execution_count": 32
        }
      ]
    },
    {
      "cell_type": "code",
      "source": [
        "L@Lt"
      ],
      "metadata": {
        "colab": {
          "base_uri": "https://localhost:8080/"
        },
        "id": "fUu4ZymCPMiR",
        "outputId": "f7850d93-17e8-4f5e-9c32-c8eaeb01fb05"
      },
      "execution_count": 33,
      "outputs": [
        {
          "output_type": "execute_result",
          "data": {
            "text/plain": [
              "array([[ 4.00000000e+00,  1.00000000e+00,  2.00000000e+00],\n",
              "       [ 1.00000000e+00,  3.00000000e+00, -4.93833114e-18],\n",
              "       [ 2.00000000e+00, -4.93833114e-18,  2.00000000e+00]])"
            ]
          },
          "metadata": {},
          "execution_count": 33
        }
      ]
    }
  ]
}