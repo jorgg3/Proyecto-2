{
  "nbformat": 4,
  "nbformat_minor": 0,
  "metadata": {
    "colab": {
      "provenance": [],
      "authorship_tag": "ABX9TyMl6TbfnjOSwiXNosCX6zYP",
      "include_colab_link": true
    },
    "kernelspec": {
      "name": "python3",
      "display_name": "Python 3"
    },
    "language_info": {
      "name": "python"
    }
  },
  "cells": [
    {
      "cell_type": "markdown",
      "metadata": {
        "id": "view-in-github",
        "colab_type": "text"
      },
      "source": [
        "<a href=\"https://colab.research.google.com/github/jorgg3/Proyecto-2/blob/main/Ejercicio_21.ipynb\" target=\"_parent\"><img src=\"https://colab.research.google.com/assets/colab-badge.svg\" alt=\"Open In Colab\"/></a>"
      ]
    },
    {
      "cell_type": "markdown",
      "source": [
        "# Práctica 2: Solución a Sistemas de Ecuaciones Lineales\n",
        "**Problemas Computacionales**\\\n",
        "Alumno: Martínez de la Cruz José Jorge\\\n",
        "Profesor: César Carreón Otañez\\\n",
        "Ayudante:  Jesús Iván Coss Calderón"
      ],
      "metadata": {
        "id": "LtzCR6KpU2I5"
      }
    },
    {
      "cell_type": "code",
      "execution_count": 15,
      "metadata": {
        "id": "RhfF843fUxkc"
      },
      "outputs": [],
      "source": [
        "import numpy as np\n",
        "\n",
        "def Paso1(M):\n",
        "    \"\"\"\n",
        "    Realiza el primer paso de un método de eliminación Gaussiana para una matriz dada.\n",
        "    Este método pivotea filas para evitar ceros en la diagonal principal y luego realiza\n",
        "    operaciones elementales para escalonar la matriz.\n",
        "\n",
        "    Parámetros:\n",
        "    M (list of lists): La matriz que se desea escalonar.\n",
        "\n",
        "    Retorna:\n",
        "    numpy.ndarray: La matriz escalonada después de la eliminación Gaussiana.\n",
        "    \"\"\"\n",
        "    for k in range(len(M)-1):  # Recorre cada columna de la matriz M\n",
        "        # Realiza la eliminación Gaussiana para hacer ceros debajo del pivote\n",
        "        for j in range(k + 1, len(M)):\n",
        "            if M[k][k] != 0:  # Asegura que el pivote no sea cero\n",
        "                a = -M[j][k] / M[k][k]  # Calcula el factor multiplicativo para la eliminación\n",
        "                M[j] = list(np.array(M[k]) * a + M[j])  # Aplica operaciones elementales\n",
        "\n",
        "    return np.array(M)  # Retorna la matriz escalonada como un array de NumPy\n"
      ]
    },
    {
      "cell_type": "code",
      "source": [
        "def Paso2(B):\n",
        "    \"\"\"\n",
        "    Realiza el segundo paso de un método de eliminación Gaussiana para obtener una matriz en forma escalonada reducida.\n",
        "    Este paso aplica eliminación hacia arriba para hacer ceros encima de los elementos en la diagonal principal.\n",
        "\n",
        "    Parámetros:\n",
        "    B (list of lists): La matriz en forma escalonada para ser convertida a forma escalonada reducida.\n",
        "\n",
        "    Retorna:\n",
        "    numpy.ndarray: La matriz en forma escalonada reducida.\n",
        "    \"\"\"\n",
        "    # Recorre la matriz en reversa, comenzando desde la última fila hasta la primera\n",
        "    for i in range(len(B) - 1, -1, -1):\n",
        "        # Realiza eliminación hacia arriba en las filas superiores a la fila i\n",
        "        for k in range(i - 1, -1, -1):\n",
        "            if B[k][i] != 0:  # Solo realiza operaciones si el elemento no es cero\n",
        "                a = -B[k][i] / B[i][i]  # Calcula el factor multiplicativo para eliminar el término\n",
        "                B[k] = (a * np.array(B[i])) + B[k]  # Realiza la eliminación sumando la fila modificada\n",
        "\n",
        "    return np.array(B)  # Retorna la matriz en forma escalonada reducida\n"
      ],
      "metadata": {
        "id": "p0Y44BH5VFGi"
      },
      "execution_count": 16,
      "outputs": []
    },
    {
      "cell_type": "code",
      "source": [
        "def EGaussiana(Z):\n",
        "    \"\"\"\n",
        "    Aplica el método de eliminación Gaussiana completo para transformar una matriz a su forma escalonada reducida.\n",
        "    Esta función une dos pasos: el primero convierte la matriz a forma escalonada, y el segundo a forma escalonada reducida.\n",
        "\n",
        "    Parámetros:\n",
        "    Z (list of lists): La matriz que se desea transformar mediante el método de eliminación Gaussiana.\n",
        "\n",
        "    Retorna:\n",
        "    numpy.ndarray: La matriz en forma escalonada reducida.\n",
        "    \"\"\"\n",
        "    Z1 = Paso1(Z)  # Aplica el primer paso de eliminación Gaussiana (forma escalonada)\n",
        "    Z2 = Paso2(Z1)  # Aplica el segundo paso para reducir la forma escalonada\n",
        "    return Z2  # Retorna la matriz en forma escalonada reducida\n"
      ],
      "metadata": {
        "id": "vZUdgu1IVJW6"
      },
      "execution_count": 17,
      "outputs": []
    },
    {
      "cell_type": "markdown",
      "source": [
        "21) Usar Eliminación Gaussiana sin pivoteo para resolver el sistema:\n",
        "$$\n",
        " \\begin{bmatrix}\n",
        "  ϵ & 1\\\\\n",
        "  1 & 1\\\\\n",
        "\\end{bmatrix}\n",
        "\\begin{bmatrix}\n",
        "  x_1\\\\\n",
        "  x_2\\\\\n",
        "\\end{bmatrix} =\n",
        "\\begin{bmatrix}\n",
        "  1+ϵ \\\\\n",
        "  2\\\\\n",
        "\\end{bmatrix}\n",
        "$$\n",
        "Para $ϵ = 10^{-2k}$ con $k = 1, ..., 10.$ La solución exacta es $x = [1, 1]^t$, ¿cómo se comporta la solución conforme $ϵ$ decrece?"
      ],
      "metadata": {
        "id": "AjTxAhbUVOAw"
      }
    },
    {
      "cell_type": "markdown",
      "source": [
        "$k = 1$"
      ],
      "metadata": {
        "id": "qS2gT1SNXL_o"
      }
    },
    {
      "cell_type": "code",
      "source": [
        "E = 10**(-2)\n",
        "A = np.array([[E, 1, 1+E], [1, 1, 2]])\n",
        "Sol = EGaussiana(A)\n",
        "x1 = Sol[0][2]/Sol[0][0]\n",
        "x2 = Sol[1][2]/Sol[1][1]\n",
        "print(f\"x1 = {x1}\\nx2 = {x2}\")"
      ],
      "metadata": {
        "colab": {
          "base_uri": "https://localhost:8080/"
        },
        "id": "Gx7kudhsWLDW",
        "outputId": "31e8fd41-d640-4fb0-e808-ad3e4ba99468"
      },
      "execution_count": 18,
      "outputs": [
        {
          "output_type": "stream",
          "name": "stdout",
          "text": [
            "x1 = 1.0000000000000009\n",
            "x2 = 1.0\n"
          ]
        }
      ]
    },
    {
      "cell_type": "markdown",
      "source": [
        "$k =2$"
      ],
      "metadata": {
        "id": "_--1aDUPXXT1"
      }
    },
    {
      "cell_type": "code",
      "source": [
        "E = 10**(-4)\n",
        "A = np.array([[E, 1, 1+E], [1, 1, 2]])\n",
        "Sol = EGaussiana(A)\n",
        "x1 = Sol[0][2]/Sol[0][0]\n",
        "x2 = Sol[1][2]/Sol[1][1]\n",
        "print(f\"x1 = {x1}\\nx2 = {x2}\")"
      ],
      "metadata": {
        "colab": {
          "base_uri": "https://localhost:8080/"
        },
        "id": "AE3Bm7_lXZ_S",
        "outputId": "00d0817a-db95-4f1d-bcad-ffc391bbbaf0"
      },
      "execution_count": 19,
      "outputs": [
        {
          "output_type": "stream",
          "name": "stdout",
          "text": [
            "x1 = 0.9999999999998899\n",
            "x2 = 1.0\n"
          ]
        }
      ]
    },
    {
      "cell_type": "markdown",
      "source": [
        "$k =3$"
      ],
      "metadata": {
        "id": "UidhxUzNXdDM"
      }
    },
    {
      "cell_type": "code",
      "source": [
        "E = 10**(-6)\n",
        "A = np.array([[E, 1, 1+E], [1, 1, 2]])\n",
        "Sol = EGaussiana(A)\n",
        "x1 = Sol[0][2]/Sol[0][0]\n",
        "x2 = Sol[1][2]/Sol[1][1]\n",
        "print(f\"x1 = {x1}\\nx2 = {x2}\")"
      ],
      "metadata": {
        "colab": {
          "base_uri": "https://localhost:8080/"
        },
        "id": "4A9vQ1OjXcoJ",
        "outputId": "8c5d47f2-c9fd-4ef9-8531-1ada5c044184"
      },
      "execution_count": 20,
      "outputs": [
        {
          "output_type": "stream",
          "name": "stdout",
          "text": [
            "x1 = 1.000000000139778\n",
            "x2 = 0.9999999999999999\n"
          ]
        }
      ]
    },
    {
      "cell_type": "markdown",
      "source": [
        "$k = 4$"
      ],
      "metadata": {
        "id": "oCCYqM4wXkbY"
      }
    },
    {
      "cell_type": "code",
      "source": [
        "E = 10**(-8)\n",
        "A = np.array([[E, 1, 1+E], [1, 1, 2]])\n",
        "Sol = EGaussiana(A)\n",
        "x1 = Sol[0][2]/Sol[0][0]\n",
        "x2 = Sol[1][2]/Sol[1][1]\n",
        "print(f\"x1 = {x1}\\nx2 = {x2}\")"
      ],
      "metadata": {
        "colab": {
          "base_uri": "https://localhost:8080/"
        },
        "id": "_XEiOdd3XmZ0",
        "outputId": "48664ff3-576d-48ec-cb6b-b5d65a609e78"
      },
      "execution_count": 21,
      "outputs": [
        {
          "output_type": "stream",
          "name": "stdout",
          "text": [
            "x1 = 1.0000000050247593\n",
            "x2 = 1.0\n"
          ]
        }
      ]
    },
    {
      "cell_type": "markdown",
      "source": [
        "$k= 5$"
      ],
      "metadata": {
        "id": "lWYZu8ZjXn87"
      }
    },
    {
      "cell_type": "code",
      "source": [
        "E = 10**(-10)\n",
        "A = np.array([[E, 1, 1+E], [1, 1, 2]])\n",
        "Sol = EGaussiana(A)\n",
        "x1 = Sol[0][2]/Sol[0][0]\n",
        "x2 = Sol[1][2]/Sol[1][1]\n",
        "print(f\"x1 = {x1}\\nx2 = {x2}\")"
      ],
      "metadata": {
        "colab": {
          "base_uri": "https://localhost:8080/"
        },
        "id": "_dLIONSiXp3N",
        "outputId": "deabc352-e273-418c-e407-2dd185528c57"
      },
      "execution_count": 22,
      "outputs": [
        {
          "output_type": "stream",
          "name": "stdout",
          "text": [
            "x1 = 1.000000082740371\n",
            "x2 = 1.0\n"
          ]
        }
      ]
    },
    {
      "cell_type": "markdown",
      "source": [
        "$k=6$"
      ],
      "metadata": {
        "id": "l4SQxfT4XrUn"
      }
    },
    {
      "cell_type": "code",
      "source": [
        "E = 10**(-12)\n",
        "A = np.array([[E, 1, 1+E], [1, 1, 2]])\n",
        "Sol = EGaussiana(A)\n",
        "x1 = Sol[0][2]/Sol[0][0]\n",
        "x2 = Sol[1][2]/Sol[1][1]\n",
        "print(f\"x1 = {x1}\\nx2 = {x2}\")"
      ],
      "metadata": {
        "colab": {
          "base_uri": "https://localhost:8080/"
        },
        "id": "V6xo5ZkWXtt2",
        "outputId": "e0231d09-f59c-42b0-b22e-dce2ed159700"
      },
      "execution_count": 23,
      "outputs": [
        {
          "output_type": "stream",
          "name": "stdout",
          "text": [
            "x1 = 0.999866855977416\n",
            "x2 = 1.0000000000000002\n"
          ]
        }
      ]
    },
    {
      "cell_type": "markdown",
      "source": [
        "$k =7$"
      ],
      "metadata": {
        "id": "3_VU1jgrXwTX"
      }
    },
    {
      "cell_type": "code",
      "source": [
        "E = 10**(-14)\n",
        "A = np.array([[E, 1, 1+E], [1, 1, 2]])\n",
        "Sol = EGaussiana(A)\n",
        "x1 = Sol[0][2]/Sol[0][0]\n",
        "x2 = Sol[1][2]/Sol[1][1]\n",
        "print(f\"x1 = {x1}\\nx2 = {x2}\")"
      ],
      "metadata": {
        "colab": {
          "base_uri": "https://localhost:8080/"
        },
        "id": "B6ClgB9WXyKg",
        "outputId": "51bec8fe-8efd-46ea-8a13-f97d9a99a504"
      },
      "execution_count": 24,
      "outputs": [
        {
          "output_type": "stream",
          "name": "stdout",
          "text": [
            "x1 = 1.0103029524088925\n",
            "x2 = 1.0\n"
          ]
        }
      ]
    },
    {
      "cell_type": "markdown",
      "source": [
        "$k=8$"
      ],
      "metadata": {
        "id": "xgX7Xvs-Xzy1"
      }
    },
    {
      "cell_type": "code",
      "source": [
        "E = 10**(-16)\n",
        "A = np.array([[E, 1, 1+E], [1, 1, 2]])\n",
        "Sol = EGaussiana(A)\n",
        "x1 = Sol[0][2]/Sol[0][0]\n",
        "x2 = Sol[1][2]/Sol[1][1]\n",
        "print(f\"x1 = {x1}\\nx2 = {x2}\")"
      ],
      "metadata": {
        "colab": {
          "base_uri": "https://localhost:8080/"
        },
        "id": "2uGGvNYmX1SV",
        "outputId": "3ba4441b-f1dc-4bc9-fb26-afe11363f9c0"
      },
      "execution_count": 25,
      "outputs": [
        {
          "output_type": "stream",
          "name": "stdout",
          "text": [
            "x1 = 2.220446049250313\n",
            "x2 = 0.9999999999999998\n"
          ]
        }
      ]
    },
    {
      "cell_type": "markdown",
      "source": [
        "$k = 9$"
      ],
      "metadata": {
        "id": "e_WKImJYX3EQ"
      }
    },
    {
      "cell_type": "code",
      "source": [
        "E = 10**(-18)\n",
        "A = np.array([[E, 1, 1+E], [1, 1, 2]])\n",
        "Sol = EGaussiana(A)\n",
        "x1 = Sol[0][2]/Sol[0][0]\n",
        "x2 = Sol[1][2]/Sol[1][1]\n",
        "print(f\"x1 = {x1}\\nx2 = {x2}\")"
      ],
      "metadata": {
        "colab": {
          "base_uri": "https://localhost:8080/"
        },
        "id": "EEmfVXJzX4-S",
        "outputId": "b26754e4-424b-46a7-86c8-8dff371cb48d"
      },
      "execution_count": 26,
      "outputs": [
        {
          "output_type": "stream",
          "name": "stdout",
          "text": [
            "x1 = 111.02230246251563\n",
            "x2 = 1.0\n"
          ]
        }
      ]
    },
    {
      "cell_type": "markdown",
      "source": [
        "$k =10$"
      ],
      "metadata": {
        "id": "Yn_Je4u4X6Xh"
      }
    },
    {
      "cell_type": "code",
      "source": [
        "E = 10**(-20)\n",
        "A = np.array([[E, 1, 1+E], [1, 1, 2]])\n",
        "Sol = EGaussiana(A)\n",
        "x1 = Sol[0][2]/Sol[0][0]\n",
        "x2 = Sol[1][2]/Sol[1][1]\n",
        "print(f\"x1 = {x1}\\nx2 = {x2}\")"
      ],
      "metadata": {
        "colab": {
          "base_uri": "https://localhost:8080/"
        },
        "id": "c7hr5m3YX7xA",
        "outputId": "688f0987-d94d-43de-8aa6-4af74c3a04ae"
      },
      "execution_count": 27,
      "outputs": [
        {
          "output_type": "stream",
          "name": "stdout",
          "text": [
            "x1 = 0.0\n",
            "x2 = 1.0\n"
          ]
        }
      ]
    },
    {
      "cell_type": "markdown",
      "source": [
        "Podemos ver que, conforme $ϵ$ decrece, la solución se aleja de la solución exacta, en un principio teniendo como solución el vector $(1, 1)$, termina en una solución como $(111, 1)$ que ya difiere considerablemente de la solución orignial."
      ],
      "metadata": {
        "id": "TmJJa3TGYJ0Y"
      }
    }
  ]
}