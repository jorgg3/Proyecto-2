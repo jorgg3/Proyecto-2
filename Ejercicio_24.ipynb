{
  "nbformat": 4,
  "nbformat_minor": 0,
  "metadata": {
    "colab": {
      "provenance": [],
      "authorship_tag": "ABX9TyPYTiFbT+8mGFJHVYyguOB+",
      "include_colab_link": true
    },
    "kernelspec": {
      "name": "python3",
      "display_name": "Python 3"
    },
    "language_info": {
      "name": "python"
    }
  },
  "cells": [
    {
      "cell_type": "markdown",
      "metadata": {
        "id": "view-in-github",
        "colab_type": "text"
      },
      "source": [
        "<a href=\"https://colab.research.google.com/github/jorgg3/Proyecto-2/blob/main/Ejercicio_24.ipynb\" target=\"_parent\"><img src=\"https://colab.research.google.com/assets/colab-badge.svg\" alt=\"Open In Colab\"/></a>"
      ]
    },
    {
      "cell_type": "markdown",
      "source": [
        "# Práctica 2: Solución a Sistemas de Ecuaciones Lineales\n",
        "**Problemas Computacionales**\\\n",
        "Alumno: Martínez de la Cruz José Jorge\\\n",
        "Profesor: César Carreón Otañez\\\n",
        "Ayudante:  Jesús Iván Coss Calderón"
      ],
      "metadata": {
        "id": "gPC02MM4QBqS"
      }
    },
    {
      "cell_type": "markdown",
      "source": [
        "24) Encontrar la factorización de Cholesky de A para las siguientes matríces:"
      ],
      "metadata": {
        "id": "4OGHOAXvQI_F"
      }
    },
    {
      "cell_type": "markdown",
      "source": [
        "Para ello, haremos uso de los códigos creados en el ejercicio 23"
      ],
      "metadata": {
        "id": "6rNArzf2QPmW"
      }
    },
    {
      "cell_type": "code",
      "execution_count": 1,
      "metadata": {
        "id": "VGA8UeUkP-kc"
      },
      "outputs": [],
      "source": [
        "import numpy as np\n",
        "\n",
        "def FactLU(A):\n",
        "    \"\"\"\n",
        "    Realiza la factorización LU de una matriz cuadrada A, descomponiéndola en el producto de\n",
        "    una matriz triangular inferior L y una matriz triangular superior U, tales que A = LU.\n",
        "\n",
        "    Parámetros:\n",
        "    A (numpy.ndarray): La matriz cuadrada que se desea factorizar.\n",
        "\n",
        "    Retorna:\n",
        "    tuple: Una tupla (L, U), donde:\n",
        "        - L (numpy.ndarray): Matriz triangular inferior.\n",
        "        - U (numpy.ndarray): Matriz triangular superior.\n",
        "    \"\"\"\n",
        "    U = np.copy(A)  # Copia la matriz A para trabajar en U sin modificar A directamente\n",
        "    n = A.shape[1]  # Número de columnas (y filas, ya que es cuadrada)\n",
        "    L = np.eye(n)  # Inicializa L como la matriz identidad de tamaño n\n",
        "\n",
        "    # Realiza iteración sobre las columnas para la construcción de L y U\n",
        "    for j in range(n):\n",
        "        Lj = np.eye(n)  # Matriz identidad que actuará como transformadora en cada paso\n",
        "        for i in range(j + 1, n):\n",
        "            Lj[i, j] = -U[i, j] / U[j, j]  # Calcula el multiplicador para hacer ceros en U\n",
        "        L = L @ Lj  # Acumula el producto de matrices transformadoras en L\n",
        "        U = Lj @ U  # Aplica la transformación en U para hacer ceros debajo del pivote actual\n",
        "\n",
        "    # Ajusta L para obtener la matriz triangular inferior correcta\n",
        "    L = 2 * np.eye(n) - L\n",
        "\n",
        "    return L, U  # Retorna las matrices L y U resultantes"
      ]
    },
    {
      "cell_type": "code",
      "source": [
        "import numpy as np\n",
        "\n",
        "def CholeskyB(A):\n",
        "    \"\"\"\n",
        "    Realiza una factorización alternativa de Cholesky para una matriz simétrica y definida positiva A.\n",
        "    Esta versión descompone A en el producto de una matriz triangular inferior L,\n",
        "    una matriz diagonal D, y la transpuesta de L, de modo que A = L * D * L^T.\n",
        "\n",
        "    Parámetros:\n",
        "    A (numpy.ndarray): La matriz simétrica y definida positiva que se desea factorizar.\n",
        "\n",
        "    Retorna:\n",
        "    tuple: Una tupla (L, D), donde:\n",
        "        - L (numpy.ndarray): Matriz triangular inferior obtenida de la factorización LU.\n",
        "        - D (numpy.ndarray): Matriz diagonal con los elementos de la diagonal de U.\n",
        "    \"\"\"\n",
        "    # Inicializa D como una matriz identidad del mismo tamaño que A\n",
        "    D = np.eye(len(A))\n",
        "\n",
        "    # Realiza la factorización LU de A, obteniendo L y U\n",
        "    L, U = FactLU(A)\n",
        "\n",
        "    # Llena la matriz D con los elementos de la diagonal de U\n",
        "    for i in range(len(U)):\n",
        "        D[i][i] = U[i][i]\n",
        "\n",
        "    return L, D  # Retorna las matrices L y D resultantes\n"
      ],
      "metadata": {
        "id": "hx2gZ2AnQg77"
      },
      "execution_count": 2,
      "outputs": []
    },
    {
      "cell_type": "code",
      "source": [
        "import numpy as np\n",
        "\n",
        "def Cholesky(A):\n",
        "    \"\"\"\n",
        "    Realiza la factorización de Cholesky de una matriz simétrica y definida positiva A.\n",
        "    La función descompone A en el producto de una matriz triangular inferior L y su transpuesta,\n",
        "    de modo que A = L * L^T.\n",
        "\n",
        "    Este método utiliza una factorización intermedia `L * D * L^T`, donde D es una matriz diagonal,\n",
        "    y luego ajusta D para obtener la forma estándar de la factorización de Cholesky.\n",
        "\n",
        "    Parámetros:\n",
        "    A (numpy.ndarray): La matriz simétrica y definida positiva que se desea factorizar.\n",
        "\n",
        "    Retorna:\n",
        "    numpy.ndarray: La matriz triangular inferior L tal que A = L * L^T.\n",
        "    \"\"\"\n",
        "    # Inicializa Du como una matriz identidad que contendrá la raíz cuadrada de los elementos de D en la diagonal\n",
        "    Du = np.eye(len(A))\n",
        "\n",
        "    # Descomposición preliminar usando CholeskyB para obtener matrices L y D\n",
        "    L, D = CholeskyB(A)\n",
        "\n",
        "    # Reemplaza la diagonal de Du con la raíz cuadrada de los elementos de la diagonal de D\n",
        "    for i in range(len(A)):\n",
        "        Du[i][i] = np.sqrt(D[i][i])\n",
        "\n",
        "    # Devuelve el producto L @ Du, que representa la matriz L de la factorización de Cholesky estándar\n",
        "    return L @ Du\n"
      ],
      "metadata": {
        "id": "BUvi27cuQiLz"
      },
      "execution_count": 3,
      "outputs": []
    },
    {
      "cell_type": "markdown",
      "source": [
        " $$\n",
        "A = \\begin{bmatrix}\n",
        "  2 & -1 & 0 \\\\\n",
        "  -1 & 2 & -1 \\\\\n",
        "  0 & -1 & 2 \\\\\n",
        "\\end{bmatrix}\n",
        "$$"
      ],
      "metadata": {
        "id": "GvC3xfjvQnDv"
      }
    },
    {
      "cell_type": "code",
      "source": [
        "A = np.array([[2, -1, 0], [-1, 2, -1], [0, -1, 2]])\n",
        "L = Cholesky(A)\n",
        "print(f\"L =\\n {L}\")"
      ],
      "metadata": {
        "colab": {
          "base_uri": "https://localhost:8080/"
        },
        "id": "aO9Cr1StQ6a2",
        "outputId": "862f4ac5-4b21-4c0f-adc0-7e570105a166"
      },
      "execution_count": 15,
      "outputs": [
        {
          "output_type": "stream",
          "name": "stdout",
          "text": [
            "L =\n",
            " [[ 1.41421356  0.          0.        ]\n",
            " [-0.70710678  1.22474487  0.        ]\n",
            " [ 0.         -0.81649658  1.15470054]]\n"
          ]
        }
      ]
    },
    {
      "cell_type": "code",
      "source": [
        "print(f\"L = \\n{CholeskyB(A)[0]}\\n D=\\n {CholeskyB(A)[1]}\")"
      ],
      "metadata": {
        "colab": {
          "base_uri": "https://localhost:8080/"
        },
        "id": "XA15xZaoRFEu",
        "outputId": "8f21bd76-2658-4b24-e515-4e13601de941"
      },
      "execution_count": 22,
      "outputs": [
        {
          "output_type": "stream",
          "name": "stdout",
          "text": [
            "L = \n",
            "[[ 1.          0.          0.        ]\n",
            " [-0.5         1.          0.        ]\n",
            " [ 0.         -0.66666667  1.        ]]\n",
            " D=\n",
            " [[2.         0.         0.        ]\n",
            " [0.         1.5        0.        ]\n",
            " [0.         0.         1.33333333]]\n"
          ]
        }
      ]
    },
    {
      "cell_type": "markdown",
      "source": [
        " $$\n",
        "B = \\begin{bmatrix}\n",
        "  4 & 1 & 1 & 1 \\\\\n",
        "  1 & 3 & -1 & 1 \\\\\n",
        "  1 & -1 & 2 & 0 \\\\\n",
        "  1 & 1 & 0 & 2\n",
        "\\end{bmatrix}\n",
        "$$"
      ],
      "metadata": {
        "id": "boDnfiZ-R8qZ"
      }
    },
    {
      "cell_type": "code",
      "source": [
        "B = np.array([[4, 1, 1, 1], [1, 3, -1, 1], [1, -1, 2, 0], [1, 1, 0, 2]])\n",
        "L = Cholesky(B)\n",
        "print(f\"L =\\n {L}\")"
      ],
      "metadata": {
        "colab": {
          "base_uri": "https://localhost:8080/"
        },
        "id": "FHvQBtjMRLrf",
        "outputId": "d9f26235-eec4-4c7d-c48b-24d3b343c6da"
      },
      "execution_count": 13,
      "outputs": [
        {
          "output_type": "stream",
          "name": "stdout",
          "text": [
            "L =\n",
            " [[ 2.          0.          0.          0.        ]\n",
            " [ 0.5         1.6583124   0.          0.        ]\n",
            " [ 0.5        -0.75377836  1.08711461  0.        ]\n",
            " [ 0.5         0.45226702  0.0836242   1.24034735]]\n"
          ]
        }
      ]
    },
    {
      "cell_type": "code",
      "source": [
        "print(f\"L = \\n{CholeskyB(B)[0]}\\n D=\\n {CholeskyB(B)[1]}\")"
      ],
      "metadata": {
        "colab": {
          "base_uri": "https://localhost:8080/"
        },
        "id": "F_jLN32wSfQo",
        "outputId": "3b103b2a-9bea-4ea4-8b29-1cde92eabce6"
      },
      "execution_count": 21,
      "outputs": [
        {
          "output_type": "stream",
          "name": "stdout",
          "text": [
            "L = \n",
            "[[ 1.          0.          0.          0.        ]\n",
            " [ 0.25        1.          0.          0.        ]\n",
            " [ 0.25       -0.45454545  1.          0.        ]\n",
            " [ 0.25        0.27272727  0.07692308  1.        ]]\n",
            " D=\n",
            " [[4.         0.         0.         0.        ]\n",
            " [0.         2.75       0.         0.        ]\n",
            " [0.         0.         1.18181818 0.        ]\n",
            " [0.         0.         0.         1.53846154]]\n"
          ]
        }
      ]
    },
    {
      "cell_type": "markdown",
      "source": [
        " $$\n",
        "C = \\begin{bmatrix}\n",
        "  4 & 1 & - 1& 0 \\\\\n",
        "  1 & 3 & -1 & 0 \\\\\n",
        "  -1 & -1 & 5 & 2 \\\\\n",
        "  0 & 0 & 2 & 4\n",
        "\\end{bmatrix}\n",
        "$$"
      ],
      "metadata": {
        "id": "7HiqHiZOSt7Q"
      }
    },
    {
      "cell_type": "code",
      "source": [
        "C = np.array([[4, 1, -1, 0], [1, 3, -1, 0], [-1, -1, 5, 2], [0, 0, 2, 4]])\n",
        "L = Cholesky(C)\n",
        "print(f\"L =\\n {L}\")"
      ],
      "metadata": {
        "colab": {
          "base_uri": "https://localhost:8080/"
        },
        "id": "su93DhjfTCJ9",
        "outputId": "dfe0bb77-7900-4837-f155-12e622f2d333"
      },
      "execution_count": 12,
      "outputs": [
        {
          "output_type": "stream",
          "name": "stdout",
          "text": [
            "L =\n",
            " [[ 2.          0.          0.          0.        ]\n",
            " [ 0.5         1.6583124   0.          0.        ]\n",
            " [-0.5        -0.45226702  2.13200716  0.        ]\n",
            " [ 0.          0.          0.93808315  1.76635217]]\n"
          ]
        }
      ]
    },
    {
      "cell_type": "code",
      "source": [
        "print(f\"L = \\n{CholeskyB(C)[0]}\\n D=\\n {CholeskyB(C)[1]}\")"
      ],
      "metadata": {
        "colab": {
          "base_uri": "https://localhost:8080/"
        },
        "id": "UXlAixgcTHFO",
        "outputId": "0835c1d5-3ac4-4bb6-bd91-f264aff0fcec"
      },
      "execution_count": 20,
      "outputs": [
        {
          "output_type": "stream",
          "name": "stdout",
          "text": [
            "L = \n",
            "[[ 1.          0.          0.          0.        ]\n",
            " [ 0.25        1.          0.          0.        ]\n",
            " [-0.25       -0.27272727  1.          0.        ]\n",
            " [ 0.          0.          0.44        1.        ]]\n",
            " D=\n",
            " [[4.         0.         0.         0.        ]\n",
            " [0.         2.75       0.         0.        ]\n",
            " [0.         0.         4.54545455 0.        ]\n",
            " [0.         0.         0.         3.12      ]]\n"
          ]
        }
      ]
    },
    {
      "cell_type": "markdown",
      "source": [
        " $$\n",
        "D = \\begin{bmatrix}\n",
        "  6 & 2 & 1& -1 \\\\\n",
        "  2 & 4 & 1 & 0 \\\\\n",
        "  1 & 1 & 4 & -1 \\\\\n",
        "  -1 & 0 & -1 & 3\n",
        "\\end{bmatrix}\n",
        "$$"
      ],
      "metadata": {
        "id": "fAQRQ-yxTjAZ"
      }
    },
    {
      "cell_type": "code",
      "source": [
        "D = np.array([[6, 2, 1, -1], [2, 4, 1, 0], [1, 1, 4, -1], [-1, 0, -1, 3]])\n",
        "L = Cholesky(D)\n",
        "print(f\"L =\\n {L}\")"
      ],
      "metadata": {
        "colab": {
          "base_uri": "https://localhost:8080/"
        },
        "id": "jd0WiGXAT4uL",
        "outputId": "41893252-6965-4f8b-e36c-1cf85b832bf5"
      },
      "execution_count": 16,
      "outputs": [
        {
          "output_type": "stream",
          "name": "stdout",
          "text": [
            "L =\n",
            " [[ 2.44948974  0.          0.          0.        ]\n",
            " [ 0.81649658  1.82574186  0.          0.        ]\n",
            " [ 0.40824829  0.36514837  1.92353841  0.        ]\n",
            " [-0.40824829  0.18257419 -0.46788772  1.60657433]]\n"
          ]
        }
      ]
    },
    {
      "cell_type": "code",
      "source": [
        "print(f\"L = \\n{CholeskyB(D)[0]}\\n D=\\n {CholeskyB(D)[1]}\")"
      ],
      "metadata": {
        "colab": {
          "base_uri": "https://localhost:8080/"
        },
        "id": "FC3q9Z9FT_ZG",
        "outputId": "d2a3b1cb-c809-4750-b800-2e426952cc60"
      },
      "execution_count": 19,
      "outputs": [
        {
          "output_type": "stream",
          "name": "stdout",
          "text": [
            "L = \n",
            "[[ 1.          0.          0.          0.        ]\n",
            " [ 0.33333333  1.          0.          0.        ]\n",
            " [ 0.16666667  0.2         1.          0.        ]\n",
            " [-0.16666667  0.1        -0.24324324  1.        ]]\n",
            " D=\n",
            " [[6.         0.         0.         0.        ]\n",
            " [0.         3.33333333 0.         0.        ]\n",
            " [0.         0.         3.7        0.        ]\n",
            " [0.         0.         0.         2.58108108]]\n"
          ]
        }
      ]
    }
  ]
}