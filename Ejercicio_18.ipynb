{
  "nbformat": 4,
  "nbformat_minor": 0,
  "metadata": {
    "colab": {
      "provenance": []
    },
    "kernelspec": {
      "name": "python3",
      "display_name": "Python 3"
    },
    "language_info": {
      "name": "python"
    }
  },
  "cells": [
    {
      "cell_type": "markdown",
      "source": [
        "# Práctica 2: Solución a Sistemas de Ecuaciones Lineales\n",
        "**Problemas Computacionales**\\\n",
        "Alumno: Martínez de la Cruz José Jorge\\\n",
        "Profesor: César Carreón Otañez\\\n",
        "Ayudante:  Jesús Iván Coss Calderón"
      ],
      "metadata": {
        "id": "GhToHE_yy3HU"
      }
    },
    {
      "cell_type": "markdown",
      "source": [
        "18) Dado el sistema $Ax = b$, resolver con eliminación Gaussiana para:\n",
        " $$\n",
        "A = \\begin{bmatrix}\n",
        "  1 & 2 & 3 \\\\\n",
        "  4 & 5 & 6 \\\\\n",
        "  7 & 8 & 9 \\\\\n",
        "\\end{bmatrix},\n",
        "b =\\begin{bmatrix}\n",
        "  2\\\\\n",
        "  8\\\\\n",
        "  10\\\\\n",
        "\\end{bmatrix}\n",
        "$$\n",
        "Para ello, realizaremos un programa que haga la eliminación gaussiana (mediante la eliminación de los elementos fuera de la diagonal), se hará en dos pasos donde se consigan matríces triangulares superior e inferior respectivamente\n",
        "."
      ],
      "metadata": {
        "id": "gPWZ1wpOy6gq"
      }
    },
    {
      "cell_type": "markdown",
      "source": [
        "En este método, se usará pedirá que la matríz no sea cuadrada pues para encontrar la solución del sistema de ecuaciones, habrá que transformar el vector $b$ junto con la matríz $A$, por lo que hay que agregarlo al final como una columna extra."
      ],
      "metadata": {
        "id": "Qeg9BaXn1hza"
      }
    },
    {
      "cell_type": "code",
      "source": [
        "import numpy as np\n",
        "\n",
        "def Paso1(M):\n",
        "    \"\"\"\n",
        "    Realiza el primer paso de un método de eliminación Gaussiana para una matriz dada.\n",
        "    Este método pivotea filas para evitar ceros en la diagonal principal y luego realiza\n",
        "    operaciones elementales para escalonar la matriz.\n",
        "\n",
        "    Parámetros:\n",
        "    M (list of lists): La matriz que se desea escalonar.\n",
        "\n",
        "    Retorna:\n",
        "    numpy.ndarray: La matriz escalonada después de la eliminación Gaussiana.\n",
        "    \"\"\"\n",
        "    for k in range(len(M) - 1):  # Recorre cada columna de la matriz M\n",
        "        # Realiza la eliminación Gaussiana para hacer ceros debajo del pivote\n",
        "        for j in range(k + 1, len(M)):\n",
        "            if M[k][k] != 0:  # Asegura que el pivote no sea cero\n",
        "                a = -M[j][k] / M[k][k]  # Calcula el factor multiplicativo para la eliminación\n",
        "                M[j] = list(np.array(M[k]) * a + M[j])  # Aplica operaciones elementales\n",
        "\n",
        "    return np.array(M)  # Retorna la matriz escalonada como un array de NumPy\n"
      ],
      "metadata": {
        "id": "Xr1Nyb1P1Cpo"
      },
      "execution_count": 22,
      "outputs": []
    },
    {
      "cell_type": "code",
      "source": [
        "def Paso2(B):\n",
        "    \"\"\"\n",
        "    Realiza el segundo paso de un método de eliminación Gaussiana para obtener una matriz en forma escalonada reducida.\n",
        "    Este paso aplica eliminación hacia arriba para hacer ceros encima de los elementos en la diagonal principal.\n",
        "\n",
        "    Parámetros:\n",
        "    B (list of lists): La matriz en forma escalonada para ser convertida a forma escalonada reducida.\n",
        "\n",
        "    Retorna:\n",
        "    numpy.ndarray: La matriz en forma escalonada reducida.\n",
        "    \"\"\"\n",
        "    # Recorre la matriz en reversa, comenzando desde la última fila hasta la primera\n",
        "    for i in range(len(B) - 1, -1, -1):\n",
        "        # Realiza eliminación hacia arriba en las filas superiores a la fila i\n",
        "        for k in range(i - 1, -1, -1):\n",
        "            if B[k][i] != 0:  # Solo realiza operaciones si el elemento no es cero\n",
        "                a = -B[k][i] / B[i][i]  # Calcula el factor multiplicativo para eliminar el término\n",
        "                B[k] = (a * np.array(B[i])) + B[k]  # Realiza la eliminación sumando la fila modificada\n",
        "\n",
        "    return np.array(B)  # Retorna la matriz en forma escalonada reducida\n"
      ],
      "metadata": {
        "id": "xvRiT0vW10r9"
      },
      "execution_count": 23,
      "outputs": []
    },
    {
      "cell_type": "code",
      "source": [
        "def EGaussiana(Z):\n",
        "    \"\"\"\n",
        "    Aplica el método de eliminación Gaussiana completo para transformar una matriz a su forma escalonada reducida.\n",
        "    Esta función une dos pasos: el primero convierte la matriz a forma escalonada, y el segundo a forma escalonada reducida.\n",
        "\n",
        "    Parámetros:\n",
        "    Z (list of lists): La matriz que se desea transformar mediante el método de eliminación Gaussiana.\n",
        "\n",
        "    Retorna:\n",
        "    numpy.ndarray: La matriz en forma escalonada reducida.\n",
        "    \"\"\"\n",
        "    Z1 = Paso1(Z)  # Aplica el primer paso de eliminación Gaussiana (forma escalonada)\n",
        "    Z2 = Paso2(Z1)  # Aplica el segundo paso para reducir la forma escalonada\n",
        "    return Z2  # Retorna la matriz en forma escalonada reducida\n"
      ],
      "metadata": {
        "id": "uaJKqu8x2Zrz"
      },
      "execution_count": 24,
      "outputs": []
    },
    {
      "cell_type": "markdown",
      "source": [
        "Observaciones: Esta es la eliminación gaussiana sin piboteo. Ahora sí, resolvamos el problema:"
      ],
      "metadata": {
        "id": "qam2GBsl2lt8"
      }
    },
    {
      "cell_type": "code",
      "source": [
        "Ab = np.array([[1,2,3,2], [4,5,6,8], [7, 8, 9, 10]])\n",
        "print(Ab)\n",
        "Paso1(Ab)"
      ],
      "metadata": {
        "colab": {
          "base_uri": "https://localhost:8080/"
        },
        "id": "XjuLvS0k2hPb",
        "outputId": "f220f041-d30a-40d3-fabc-5d536ad7ddd5"
      },
      "execution_count": 25,
      "outputs": [
        {
          "output_type": "stream",
          "name": "stdout",
          "text": [
            "[[ 1  2  3  2]\n",
            " [ 4  5  6  8]\n",
            " [ 7  8  9 10]]\n"
          ]
        },
        {
          "output_type": "execute_result",
          "data": {
            "text/plain": [
              "array([[ 1,  2,  3,  2],\n",
              "       [ 0, -3, -6,  0],\n",
              "       [ 0,  0,  0, -4]])"
            ]
          },
          "metadata": {},
          "execution_count": 25
        }
      ]
    },
    {
      "cell_type": "markdown",
      "source": [
        "Notemos que al hacer la primer eliminación gaussiana, el término que queda en la diagonal es 0, por lo que el sistema no tendría solución."
      ],
      "metadata": {
        "id": "bpDLylYW5UGq"
      }
    },
    {
      "cell_type": "markdown",
      "source": [
        "Usa factorización LU de $A$ para resolver el sistema $Ay = c$, donde:\n",
        "$$\n",
        "c =\\begin{bmatrix}\n",
        "  4\\\\\n",
        "  8\\\\\n",
        "  -6\\\\\n",
        "\\end{bmatrix}\n",
        "$$\n"
      ],
      "metadata": {
        "id": "UyejuJFs5hl2"
      }
    },
    {
      "cell_type": "markdown",
      "source": [
        "Aquí, usaremos los códigos trabajados en clase:\n"
      ],
      "metadata": {
        "id": "2vuUJQRt6ZXZ"
      }
    },
    {
      "cell_type": "code",
      "source": [
        "import numpy as np\n",
        "\n",
        "def FactLU(A):\n",
        "    \"\"\"\n",
        "    Realiza la factorización LU de una matriz cuadrada A, descomponiéndola en el producto de\n",
        "    una matriz triangular inferior L y una matriz triangular superior U, tales que A = LU.\n",
        "\n",
        "    Parámetros:\n",
        "    A (numpy.ndarray): La matriz cuadrada que se desea factorizar.\n",
        "\n",
        "    Retorna:\n",
        "    tuple: Una tupla (L, U), donde:\n",
        "        - L (numpy.ndarray): Matriz triangular inferior.\n",
        "        - U (numpy.ndarray): Matriz triangular superior.\n",
        "    \"\"\"\n",
        "    U = np.copy(A)  # Copia la matriz A para trabajar en U sin modificar A directamente\n",
        "    n = A.shape[1]  # Número de columnas (y filas, ya que es cuadrada)\n",
        "    L = np.eye(n)  # Inicializa L como la matriz identidad de tamaño n\n",
        "\n",
        "    # Realiza iteración sobre las columnas para la construcción de L y U\n",
        "    for j in range(n):\n",
        "        Lj = np.eye(n)  # Matriz identidad que actuará como transformadora en cada paso\n",
        "        for i in range(j + 1, n):\n",
        "            Lj[i, j] = -U[i, j] / U[j, j]  # Calcula el multiplicador para hacer ceros en U\n",
        "        L = L @ Lj  # Acumula el producto de matrices transformadoras en L\n",
        "        U = Lj @ U  # Aplica la transformación en U para hacer ceros debajo del pivote actual\n",
        "\n",
        "    # Ajusta L para obtener la matriz triangular inferior correcta\n",
        "    L = 2 * np.eye(n) - L\n",
        "\n",
        "    return L, U  # Retorna las matrices L y U resultantes"
      ],
      "metadata": {
        "id": "FZBonQHc5hPF"
      },
      "execution_count": 26,
      "outputs": []
    },
    {
      "cell_type": "code",
      "source": [
        "def SustDelante(L,b):\n",
        "  x=np.zeros_like(b)\n",
        "  n=L.shape[0]# cantidad de renglones de L\n",
        "  for i in range(n):\n",
        "    sum=0.0\n",
        "    for j in range(i):\n",
        "      sum+=L[i,j]*x[j]\n",
        "    x[i]=(b[i]-sum)/L[i,i]\n",
        "\n",
        "  return x"
      ],
      "metadata": {
        "id": "idu4-PjX6vpB"
      },
      "execution_count": 27,
      "outputs": []
    },
    {
      "cell_type": "code",
      "source": [
        "def SustAtras(U,y):\n",
        "  x=np.zeros_like(y)\n",
        "  n=U.shape[0]# cantidad de renglones de U\n",
        "  x[n-1]=y[n-1]/U[n-1][n-1]\n",
        "\n",
        "  for i in range(n-2,-1,-1):\n",
        "    sum=0.0\n",
        "    for j in range(i+1,n):\n",
        "      sum+=U[i,j]*x[j]\n",
        "    x[i]=(y[i]-sum)/U[i,i]\n",
        "\n",
        "  return x\n",
        ""
      ],
      "metadata": {
        "id": "WxIBczv061pv"
      },
      "execution_count": 28,
      "outputs": []
    },
    {
      "cell_type": "code",
      "source": [
        "def SolverLU(A,b):\n",
        "  L,U=FactLU(A)\n",
        "  y=SustDelante(L,b)\n",
        "  x=SustAtras(U,y)\n",
        "\n",
        "  return x"
      ],
      "metadata": {
        "id": "XCPm00U568kB"
      },
      "execution_count": 29,
      "outputs": []
    },
    {
      "cell_type": "markdown",
      "source": [
        "Resolviendo el ejercicio:"
      ],
      "metadata": {
        "id": "A32Enn-z7ATR"
      }
    },
    {
      "cell_type": "code",
      "source": [
        "A = np.array([[1,2,3], [4,5,6], [7, 8, 9]])\n",
        "c = [4, 8, -6]\n",
        "A1 = FactLU(A)\n",
        "A1"
      ],
      "metadata": {
        "colab": {
          "base_uri": "https://localhost:8080/"
        },
        "id": "pzR4q6WK7AB_",
        "outputId": "de356f47-5552-4af3-d930-d7d405d9a8f7"
      },
      "execution_count": 30,
      "outputs": [
        {
          "output_type": "execute_result",
          "data": {
            "text/plain": [
              "(array([[1., 0., 0.],\n",
              "        [4., 1., 0.],\n",
              "        [7., 2., 1.]]),\n",
              " array([[ 1.,  2.,  3.],\n",
              "        [ 0., -3., -6.],\n",
              "        [ 0.,  0.,  0.]]))"
            ]
          },
          "metadata": {},
          "execution_count": 30
        }
      ]
    },
    {
      "cell_type": "markdown",
      "source": [
        "Nuevamente vemos que, no hay solución del sistema $Ux = y$, pues el último renglón de $U$ está lleno de $0$, lo que no permite hacer la sustitución hacia atrás."
      ],
      "metadata": {
        "id": "bpAbWhew7mdC"
      }
    }
  ]
}